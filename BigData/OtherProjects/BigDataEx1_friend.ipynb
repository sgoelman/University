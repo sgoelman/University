{
 "cells": [
  {
   "cell_type": "markdown",
   "metadata": {},
   "source": [
    "# BigData - Exercise 1\n",
    "Tom Koch 301755088\n",
    "Jhonathan Gang 200877157\n",
    "\n",
    "Dataset used: 'kickstart-projects' from kaggle\n",
    "https://www.kaggle.com/kemical/kickstarter-projects\n",
    "* The data contained two csv files, we only loaded 'ks-projects-201801.csv'"
   ]
  },
  {
   "cell_type": "code",
   "execution_count": 1,
   "metadata": {},
   "outputs": [],
   "source": [
    "#Initializing PySpark\n",
    "from pyspark import SparkContext, SparkConf\n",
    "\n",
    "# #Spark Config\n",
    "conf = SparkConf().setAppName(\"Ex1\")\n",
    "sc = SparkContext(conf=conf)\n"
   ]
  },
  {
   "cell_type": "code",
   "execution_count": 2,
   "metadata": {
    "scrolled": true
   },
   "outputs": [
    {
     "data": {
      "text/html": [
       "\n",
       "        <div>\n",
       "            <p><b>SparkContext</b></p>\n",
       "\n",
       "            <p><a href=\"http://d5d1bfde2a8d:4040\">Spark UI</a></p>\n",
       "\n",
       "            <dl>\n",
       "              <dt>Version</dt>\n",
       "                <dd><code>v2.4.0</code></dd>\n",
       "              <dt>Master</dt>\n",
       "                <dd><code>local[*]</code></dd>\n",
       "              <dt>AppName</dt>\n",
       "                <dd><code>Ex1</code></dd>\n",
       "            </dl>\n",
       "        </div>\n",
       "        "
      ],
      "text/plain": [
       "<SparkContext master=local[*] appName=Ex1>"
      ]
     },
     "execution_count": 2,
     "metadata": {},
     "output_type": "execute_result"
    }
   ],
   "source": [
    "sc\n"
   ]
  },
  {
   "cell_type": "markdown",
   "metadata": {},
   "source": [
    "# 1. Load your dataset."
   ]
  },
  {
   "cell_type": "markdown",
   "metadata": {},
   "source": [
    "The text column contains commas, so reading the csv as a text file and splitting with by ',' didn't load the csv as needed.\n",
    "After verifying it was ok with Mark we used 'databricks' with 'sqlContext.read.format' in order to first load the csv"
   ]
  },
  {
   "cell_type": "code",
   "execution_count": 3,
   "metadata": {},
   "outputs": [
    {
     "name": "stdout",
     "output_type": "stream",
     "text": [
      "number of rows:  378661\n",
      "number of columns:  15\n"
     ]
    }
   ],
   "source": [
    "from pyspark.sql import SQLContext\n",
    "\n",
    "sqlContext = SQLContext(sc)\n",
    "\n",
    "df = sqlContext.read.format('com.databricks.spark.csv').options(header='true', inferschema='true', quote='\"',\n",
    "                                                                delimiter=',', escape='\"').load(\n",
    "    'ks-projects-201801.csv')\n",
    "print(\"number of rows: \", df.count())\n",
    "print(\"number of columns: \", len(df.columns))\n"
   ]
  },
  {
   "cell_type": "code",
   "execution_count": 4,
   "metadata": {},
   "outputs": [],
   "source": [
    "#we will use a list and dictionary to help us maintain the columns names & indexes in the RDD\n",
    "COL_NAMES = ['name', 'category', 'main_category', 'currency', 'deadline', 'goal', 'launched', 'pledged', 'state',\n",
    "             'backers', 'country', 'usd pledged', 'usd_pledged_real', 'usd_goal_real']\n",
    "COL_NAMES_INDEXES = {k: v for v, k in enumerate(COL_NAMES)}\n"
   ]
  },
  {
   "cell_type": "markdown",
   "metadata": {},
   "source": [
    "# 2. Transform the data set into RDD pair, where the key is the unique id and the value is a Python list which contains the rest of the columns."
   ]
  },
  {
   "cell_type": "code",
   "execution_count": 5,
   "metadata": {},
   "outputs": [
    {
     "data": {
      "text/plain": [
       "2"
      ]
     },
     "execution_count": 5,
     "metadata": {},
     "output_type": "execute_result"
    }
   ],
   "source": [
    "x = df.rdd.map(lambda x: (x.ID, list(x[1:])))\n",
    "x.getNumPartitions()\n"
   ]
  },
  {
   "cell_type": "markdown",
   "metadata": {},
   "source": [
    "# 3. Choose 5 important columns and for each column\n",
    "a. Count the distinct values in each one of them.\n",
    "b. Create histogram to analyze the distribution of the above columns (normalize?).\n",
    "c. Explain your results."
   ]
  },
  {
   "cell_type": "code",
   "execution_count": 39,
   "metadata": {},
   "outputs": [
    {
     "name": "stdout",
     "output_type": "stream",
     "text": [
      "Number of distinct values in the country column: 23\n"
     ]
    },
    {
     "data": {
      "image/png": "[encoded data removed]",
      "text/plain": [
       "<Figure size 1080x432 with 1 Axes>"
      ]
     },
     "metadata": {
      "needs_background": "light"
     },
     "output_type": "display_data"
    }
   ],
   "source": [
    "import matplotlib.pyplot as plt\n",
    "import numpy as np\n",
    "\n",
    "# COUNTRY COLUMN\n",
    "col_name = \"country\"\n",
    "col_index=COL_NAMES_INDEXES[col_name]\n",
    "rdd_mapped = x.map(lambda x: (x[1][col_index], 1))\n",
    "rdd_reduced = rdd_mapped.reduceByKey(lambda x, y: x + y).map(lambda x: (x[1], x[0])).sortByKey(False).collect()\n",
    "\n",
    "print(\"Number of distinct values in the\", col_name, \"column:\", len(rdd_mapped.distinct().countByKey()))\n",
    "\n",
    "fig = plt.figure(figsize=(15, 6))\n",
    "amount, label = zip(*rdd_reduced)\n",
    "plt.bar(label, amount)\n",
    "plt.title(col_name + \" column distribution\")\n",
    "plt.show()\n"
   ]
  },
  {
   "cell_type": "code",
   "execution_count": 7,
   "metadata": {},
   "outputs": [
    {
     "data": {
      "text/plain": [
       "3797"
      ]
     },
     "execution_count": 7,
     "metadata": {},
     "output_type": "execute_result"
    }
   ],
   "source": [
    "x.filter(lambda x: x[1][col_index] == 'N,0\"').count()\n"
   ]
  },
  {
   "cell_type": "markdown",
   "metadata": {},
   "source": [
    "There are 3,797 observations with the country N,0\" - probably N/A. We will continue to explore this shortly.\n",
    "\n",
    "Most of the projects are from the United States (77%)"
   ]
  },
  {
   "cell_type": "code",
   "execution_count": 8,
   "metadata": {},
   "outputs": [
    {
     "name": "stdout",
     "output_type": "stream",
     "text": [
      "Number of distinct values in the currency column: 14\n"
     ]
    },
    {
     "data": {
      "image/png": "[encoded data removed]",
      "text/plain": [
       "<Figure size 1080x432 with 1 Axes>"
      ]
     },
     "metadata": {
      "needs_background": "light"
     },
     "output_type": "display_data"
    }
   ],
   "source": [
    "#CURRENCY COLUMN\n",
    "col_name = 'currency'\n",
    "col_index=COL_NAMES_INDEXES[col_name]\n",
    "rdd_mapped = x.map(lambda x: (x[1][col_index], 1))\n",
    "rdd_reduced = rdd_mapped.reduceByKey(lambda x, y: x + y).map(lambda x: (x[1], x[0])).sortByKey(False).collect()\n",
    "\n",
    "print('Number of distinct values in the', col_name, \"column:\", len(rdd_mapped.distinct().countByKey()))\n",
    "\n",
    "fig = plt.figure(figsize=(15, 6))\n",
    "amount, label = zip(*rdd_reduced)\n",
    "plt.bar(label, amount)\n",
    "plt.title(col_name + \" column distribution\")\n",
    "plt.show()\n"
   ]
  },
  {
   "cell_type": "markdown",
   "metadata": {},
   "source": [
    "As expected from the country distribution, most of the project's currency is USD, with GBP and EURO in the second and third place (obviously there is a correlation between the countries and currencies used.)"
   ]
  },
  {
   "cell_type": "code",
   "execution_count": 9,
   "metadata": {},
   "outputs": [
    {
     "name": "stdout",
     "output_type": "stream",
     "text": [
      "Number of distinct values in the state column: 6\n"
     ]
    },
    {
     "data": {
      "image/png": "[encoded data removed]",
      "text/plain": [
       "<Figure size 1080x432 with 1 Axes>"
      ]
     },
     "metadata": {
      "needs_background": "light"
     },
     "output_type": "display_data"
    }
   ],
   "source": [
    "#STATE COLUMN\n",
    "col_name = \"state\"\n",
    "col_index=COL_NAMES_INDEXES[col_name]\n",
    "rdd_mapped = x.map(lambda x: (x[1][col_index], 1))\n",
    "rdd_reduced=rdd_mapped.reduceByKey(lambda x, y: x+y).map(lambda x:(x[1],x[0])).sortByKey(False).collect()\n",
    "\n",
    "print(\"Number of distinct values in the\", col_name, \"column:\", len(rdd_mapped.distinct().countByKey()))\n",
    "\n",
    "fig = plt.figure(figsize=(15, 6))\n",
    "amount, label = zip(*rdd_reduced)\n",
    "plt.bar(label, amount)\n",
    "plt.title(col_name+\" column distribution\")\n",
    "plt.show()\n"
   ]
  },
  {
   "cell_type": "markdown",
   "metadata": {},
   "source": [
    "More projects failed than succeeded. More than half have failed, 10% was canceled and only 35% successed"
   ]
  },
  {
   "cell_type": "markdown",
   "metadata": {},
   "source": [
    " The distribution of \"usd_goal_real\" and \"usd_pledged_real\" are porbably heavily right-skewed due to many projects that received little to no funding and extremely high outliers.\n",
    " We will use a log transformation on both variables to better visualize their distributions."
   ]
  },
  {
   "cell_type": "code",
   "execution_count": 10,
   "metadata": {
    "scrolled": false
   },
   "outputs": [
    {
     "name": "stdout",
     "output_type": "stream",
     "text": [
      "Number of distinct values in the usd_goal_real column: 50339\n"
     ]
    },
    {
     "data": {
      "image/png": "[encoded data removed]",
      "text/plain": [
       "<Figure size 1080x432 with 1 Axes>"
      ]
     },
     "metadata": {
      "needs_background": "light"
     },
     "output_type": "display_data"
    }
   ],
   "source": [
    "#USD_GOAL_REAL COLUMN\n",
    "col_name = \"usd_goal_real\"\n",
    "col_index=COL_NAMES_INDEXES[col_name]\n",
    "rdd_mapped = x.map(lambda x: (x[1][col_index], 1))\n",
    "rdd_reduced = rdd_mapped.reduceByKey(lambda x, y: x+y).map(lambda x: (x[1], x[0])).sortByKey(False).collect()\n",
    "\n",
    "print(\"Number of distinct values in the\", col_name, \"column:\", len(rdd_mapped.distinct().countByKey()))\n",
    "\n",
    "fig = plt.figure(figsize=(15, 6))\n",
    "amount, label = zip(*rdd_reduced)\n",
    "plt.hist(label)\n",
    "plt.title(col_name+\" column distribution\")\n",
    "plt.show()\n"
   ]
  },
  {
   "cell_type": "code",
   "execution_count": 11,
   "metadata": {
    "scrolled": true
   },
   "outputs": [
    {
     "data": {
      "image/png": "[encoded data removed]",
      "text/plain": [
       "<Figure size 1080x432 with 1 Axes>"
      ]
     },
     "metadata": {
      "needs_background": "light"
     },
     "output_type": "display_data"
    }
   ],
   "source": [
    "label_log_plus_1 = np.log2(np.add(label, 1))\n",
    "fig = plt.figure(figsize=(15, 6))\n",
    "plt.hist(label_log_plus_1)\n",
    "plt.title(\"log(\"+col_name+\"+1) column distribution\")\n",
    "plt.show()\n"
   ]
  },
  {
   "cell_type": "code",
   "execution_count": 12,
   "metadata": {},
   "outputs": [
    {
     "name": "stdout",
     "output_type": "stream",
     "text": [
      "Number of distinct values in the usd_pledged_real column: 106065\n"
     ]
    },
    {
     "data": {
      "image/png": "[encoded data removed]",
      "text/plain": [
       "<Figure size 1080x432 with 1 Axes>"
      ]
     },
     "metadata": {
      "needs_background": "light"
     },
     "output_type": "display_data"
    }
   ],
   "source": [
    "#USD_PLEDGED_REAL COLUMN\n",
    "col_name = \"usd_pledged_real\"\n",
    "col_index=COL_NAMES_INDEXES[col_name]\n",
    "rdd_mapped = x.map(lambda x: (x[1][col_index], 1))\n",
    "rdd_reduced = rdd_mapped.reduceByKey(lambda x, y: x+y).map(lambda x: (x[1], x[0])).sortByKey(False).collect()\n",
    "print(\"Number of distinct values in the\", col_name, \"column:\", rdd_mapped.distinct().count())\n",
    "\n",
    "fig = plt.figure(figsize=(15, 6))\n",
    "amount, label = zip(*rdd_reduced)\n",
    "plt.hist(label)\n",
    "plt.title(col_name + \" column distribution\")\n",
    "plt.show()\n"
   ]
  },
  {
   "cell_type": "code",
   "execution_count": 13,
   "metadata": {},
   "outputs": [
    {
     "data": {
      "image/png": "[encoded data removed]",
      "text/plain": [
       "<Figure size 1080x432 with 1 Axes>"
      ]
     },
     "metadata": {
      "needs_background": "light"
     },
     "output_type": "display_data"
    }
   ],
   "source": [
    "label_log_plus_1 = np.log2(np.add(label, 1))\n",
    "fig = plt.figure(figsize=(15, 6))\n",
    "plt.hist(label_log_plus_1)\n",
    "plt.title(\"log(\"+col_name+\"+1) column distribution\")\n",
    "plt.show()\n"
   ]
  },
  {
   "cell_type": "markdown",
   "metadata": {},
   "source": [
    "Both distributions really are heavily right-skewed due to many projects that received little to no funding and extremely high outliers. The log ditribution shows us that goal has a normal distribution, while the pledged seems to be right-skewed"
   ]
  },
  {
   "cell_type": "code",
   "execution_count": null,
   "metadata": {
    "collapsed": true
   },
   "outputs": [],
   "source": []
  },
  {
   "cell_type": "code",
   "execution_count": null,
   "metadata": {
    "collapsed": true
   },
   "outputs": [],
   "source": []
  },
  {
   "cell_type": "markdown",
   "metadata": {},
   "source": [
    "# 4. Fill in bad or missing value (zero,mean or median). Explain your solution."
   ]
  },
  {
   "cell_type": "code",
   "execution_count": 14,
   "metadata": {},
   "outputs": [
    {
     "name": "stdout",
     "output_type": "stream",
     "text": [
      "name Number of NA: 4\n",
      "category Number of NA: 0\n",
      "main_category Number of NA: 0\n",
      "currency Number of NA: 0\n",
      "deadline Number of NA: 0\n",
      "goal Number of NA: 0\n",
      "launched Number of NA: 0\n",
      "pledged Number of NA: 0\n",
      "state Number of NA: 0\n",
      "backers Number of NA: 0\n",
      "country Number of NA: 0\n",
      "usd pledged Number of NA: 3797\n",
      "usd_pledged_real Number of NA: 0\n",
      "usd_goal_real Number of NA: 0\n"
     ]
    }
   ],
   "source": [
    "#first we'll find the columns containing NA\n",
    "for i in range(0, len(COL_NAMES)):\n",
    "    rdd_mapped = x.filter(lambda x: x[1][i] == None)\n",
    "    print(COL_NAMES[i], \"Number of NA:\", rdd_mapped.count())\n"
   ]
  },
  {
   "cell_type": "markdown",
   "metadata": {},
   "source": [
    "There are only two columns containing NA: \n",
    "* name - which contains only 4 NA, so we'll just drop those observations\n",
    "* usd pledged - contains 3797 NA, which is about 1% of the entire dataset. These probably correspands to the NA (N,0\") in the 'country' column.\n",
    "\n",
    "Filling the NA in 'usd pledged\" with 0/mean/median is wrong because we can't make such a general assumption on all of these projects (can we say all of these column will receive 0 pledges? The mean pledge?)\n",
    "Because it is only 1% of our dataset, We'll just drop these values.\n",
    "Other options: \n",
    "* Importing data about convertion rates in previous years and calculating the usd_pledged according to the 'pledge' and 'currency' columns\n",
    "* Ignoring those NA, as we have this information stored in 'usd_pledged_real' column"
   ]
  },
  {
   "cell_type": "code",
   "execution_count": 15,
   "metadata": {},
   "outputs": [
    {
     "data": {
      "text/plain": [
       "[('N,0\"', None),\n",
       " ('N,0\"', None),\n",
       " ('N,0\"', None),\n",
       " ('N,0\"', None),\n",
       " ('N,0\"', None),\n",
       " ('N,0\"', None),\n",
       " ('N,0\"', None),\n",
       " ('N,0\"', None),\n",
       " ('N,0\"', None),\n",
       " ('N,0\"', None),\n",
       " ('N,0\"', None),\n",
       " ('N,0\"', None),\n",
       " ('N,0\"', None),\n",
       " ('N,0\"', None),\n",
       " ('N,0\"', None),\n",
       " ('N,0\"', None),\n",
       " ('N,0\"', None),\n",
       " ('N,0\"', None),\n",
       " ('N,0\"', None),\n",
       " ('N,0\"', None)]"
      ]
     },
     "execution_count": 15,
     "metadata": {},
     "output_type": "execute_result"
    }
   ],
   "source": [
    "#first let's check if the observations with weird country 'N,0' really correspands to the ones in 'usd pledged' column\n",
    "country_col_index=COL_NAMES_INDEXES['country']\n",
    "usd_pledged_col_index=COL_NAMES_INDEXES['usd pledged']\n",
    "x.filter(lambda a: a[1][usd_pledged_col_index] == None).map(lambda b: (b[1][country_col_index], b[1][usd_pledged_col_index])).take(20)\n"
   ]
  },
  {
   "cell_type": "markdown",
   "metadata": {},
   "source": [
    "It appears that the country 'N,0\"' is connected to the NA found in usd pledged"
   ]
  },
  {
   "cell_type": "code",
   "execution_count": 6,
   "metadata": {
    "scrolled": true
   },
   "outputs": [
    {
     "name": "stdout",
     "output_type": "stream",
     "text": [
      "Size before: 378661\n",
      "Size after removing NA from name: 378657\n",
      "Size after removing NA from usd pledged: 374864\n"
     ]
    }
   ],
   "source": [
    "#Dropping NA from the 'name' column\n",
    "col_index=COL_NAMES_INDEXES['name']\n",
    "print(\"Size before: \" + str(x.count()))\n",
    "x = x.filter(lambda x: x[1][col_index] != None)\n",
    "print(\"Size after removing NA from name: \" + str(x.count()))\n",
    "\n",
    "#Dropping NA from the 'usd pledged' column\n",
    "col_index=COL_NAMES_INDEXES['usd pledged']\n",
    "x = x.filter(lambda x: x[1][col_index] != None)\n",
    "print(\"Size after removing NA from usd pledged: \" + str(x.count()))\n"
   ]
  },
  {
   "cell_type": "code",
   "execution_count": null,
   "metadata": {
    "collapsed": true
   },
   "outputs": [],
   "source": [
    "#If there was a justification for filling those NA with the column's mean, we could have done so like this:\n",
    "\n",
    "#calculating the column's mean\n",
    "# col_index=COL_NAMES_INDEXES['usd pledged']\n",
    "# usd_pledged_mean = x.filter(lambda x: x[1][col_index] != None).map(lambda x: x[1][col_index]).mean()\n",
    "#filling the NA with the mean we just found:\n",
    "# x=x.map(lambda x: (x[0],\n",
    "#                    x[1][:col_index]\n",
    "#                    + [usd_pledged_mean if x[1][col_index] == None else x[1][col_index]]\n",
    "#                    + x[1][col_index+1:]))\n"
   ]
  },
  {
   "cell_type": "code",
   "execution_count": null,
   "metadata": {
    "collapsed": true
   },
   "outputs": [],
   "source": []
  },
  {
   "cell_type": "code",
   "execution_count": null,
   "metadata": {
    "collapsed": true
   },
   "outputs": [],
   "source": []
  },
  {
   "cell_type": "markdown",
   "metadata": {},
   "source": [
    "# 5. Transform 2 columns which contains categorical features to numerical values. Explain your method."
   ]
  },
  {
   "cell_type": "markdown",
   "metadata": {},
   "source": [
    "As we saw when we looked at the distribution of the 'currency' column, about 80% of all projects use USD, and about 10% use GBP. We'll transform the 'currency' column into the next 3 binary columns:\n",
    "a. 'is_usd' which will contain 1 if the currency is USD and 0 otherwise\n",
    "b. 'is_gbp' which will contain 1 if the currency is GBP and 0 otherwise\n",
    "c. 'is_other_currency' which will accept 1  if the currency is neither USD or GBP, and 0 otherwise"
   ]
  },
  {
   "cell_type": "code",
   "execution_count": 18,
   "metadata": {
    "collapsed": true
   },
   "outputs": [],
   "source": [
    "col_index=COL_NAMES_INDEXES['currency']\n",
    "rdd_usd = x.map(lambda x: (x[0], x[1][col_index] == 'USD'))\n",
    "x = x.join(rdd_usd)\n",
    "x = x.map(lambda x: (x[0], [*x[1][0], x[1][1]]))\n",
    "#adding the new value to COL_NAMES and COL_NAMES_INDEXES for easier maintance\n",
    "COL_NAMES.append('is_usd')\n",
    "COL_NAMES_INDEXES['is_usd']=len(COL_NAMES)-1\n"
   ]
  },
  {
   "cell_type": "code",
   "execution_count": 19,
   "metadata": {
    "collapsed": true
   },
   "outputs": [],
   "source": [
    "rdd_gbp = x.map(lambda x: (x[0], x[1][col_index] == 'GBP'))\n",
    "x = x.join(rdd_gbp)\n",
    "x = x.map(lambda x: (x[0], [*x[1][0], x[1][1]]))\n",
    "#adding the new value to COL_NAMES and COL_NAMES_INDEXES for easier maintance\n",
    "COL_NAMES.append('is_gbp')\n",
    "COL_NAMES_INDEXES['is_gbp']=len(COL_NAMES)-1\n"
   ]
  },
  {
   "cell_type": "code",
   "execution_count": 20,
   "metadata": {
    "collapsed": true
   },
   "outputs": [],
   "source": [
    "rdd_other_currency = x.map(lambda x: (x[0], x[1][col_index] not in ['USD', 'GBP']))\n",
    "x = x.join(rdd_other_currency)\n",
    "x = x.map(lambda x: (x[0], [*x[1][0], x[1][1]]))\n",
    "#adding the new value to COL_NAMES and COL_NAMES_INDEXES for easier maintance\n",
    "COL_NAMES.append('is_other_currency')\n",
    "COL_NAMES_INDEXES['is_other_currency']=len(COL_NAMES)-1\n"
   ]
  },
  {
   "cell_type": "code",
   "execution_count": 21,
   "metadata": {},
   "outputs": [
    {
     "data": {
      "text/plain": [
       "(1000055792,\n",
       " ['The Cottage Market',\n",
       "  'Crafts',\n",
       "  'Crafts',\n",
       "  'USD',\n",
       "  datetime.datetime(2014, 10, 2, 0, 0),\n",
       "  5000.0,\n",
       "  datetime.datetime(2014, 9, 2, 17, 11, 50),\n",
       "  0.0,\n",
       "  'failed',\n",
       "  0,\n",
       "  'US',\n",
       "  0.0,\n",
       "  0.0,\n",
       "  5000.0,\n",
       "  True,\n",
       "  False,\n",
       "  False])"
      ]
     },
     "execution_count": 21,
     "metadata": {},
     "output_type": "execute_result"
    }
   ],
   "source": [
    "#let's take a look at how a single Row looks in our RDD at the moment\n",
    "x.first()\n"
   ]
  },
  {
   "cell_type": "markdown",
   "metadata": {},
   "source": [
    "From the state column we can assess whether the project successed or failed.\n",
    "We'll transform the 'state' column into the next 3 binary columns:\n",
    "a. 'is_successfull' which will contain 1 if the state of the project is 'successful'\n",
    "b. 'is_failed' which will contain 1 if the state of the project is 'failed' OR 'canceled'\n",
    "c. 'is_other_state' which will accept 1 if the state of the project is 'live' or 'suspended'"
   ]
  },
  {
   "cell_type": "code",
   "execution_count": 22,
   "metadata": {
    "collapsed": true
   },
   "outputs": [],
   "source": [
    "col_index=COL_NAMES_INDEXES['state']\n",
    "rdd_successful = x.map(lambda x: (x[0], x[1][col_index] == 'successful'))\n",
    "x = x.join(rdd_successful)\n",
    "x = x.map(lambda x: (x[0], [*x[1][0], x[1][1]]))\n",
    "#adding the new value to COL_NAMES and COL_NAMES_INDEXES for easier maintance\n",
    "COL_NAMES.append('is_successful')\n",
    "COL_NAMES_INDEXES['is_successful']=len(COL_NAMES)-1\n"
   ]
  },
  {
   "cell_type": "code",
   "execution_count": 23,
   "metadata": {
    "collapsed": true
   },
   "outputs": [],
   "source": [
    "rdd_failed = x.map(lambda x: (x[0], x[1][col_index] in ['failed', 'canceled']))\n",
    "x = x.join(rdd_failed)\n",
    "x = x.map(lambda x: (x[0], [*x[1][0], x[1][1]]))\n",
    "#adding the new value to COL_NAMES and COL_NAMES_INDEXES for easier maintance\n",
    "COL_NAMES.append('is_fail')\n",
    "COL_NAMES_INDEXES['is_fail']=len(COL_NAMES)-1\n"
   ]
  },
  {
   "cell_type": "code",
   "execution_count": 24,
   "metadata": {
    "collapsed": true
   },
   "outputs": [],
   "source": [
    "rdd_other_state = x.map(lambda x: (x[0], x[1][col_index] in ['live', 'suspended', 'undefined']))\n",
    "x = x.join(rdd_other_state)\n",
    "x = x.map(lambda x: (x[0], [*x[1][0], x[1][1]]))\n",
    "#adding the new value to COL_NAMES and COL_NAMES_INDEXES for easier maintance\n",
    "COL_NAMES.append('is_other_state')\n",
    "COL_NAMES_INDEXES['is_other_state']=len(COL_NAMES)-1\n"
   ]
  },
  {
   "cell_type": "code",
   "execution_count": 25,
   "metadata": {},
   "outputs": [
    {
     "data": {
      "text/plain": [
       "(1000068480,\n",
       " ['Notes From London: Above & Below',\n",
       "  'Art Books',\n",
       "  'Publishing',\n",
       "  'USD',\n",
       "  datetime.datetime(2015, 5, 10, 0, 0),\n",
       "  3000.0,\n",
       "  datetime.datetime(2015, 4, 10, 21, 20, 54),\n",
       "  789.0,\n",
       "  'failed',\n",
       "  20,\n",
       "  'US',\n",
       "  789.0,\n",
       "  789.0,\n",
       "  3000.0,\n",
       "  True,\n",
       "  False,\n",
       "  False,\n",
       "  False,\n",
       "  True,\n",
       "  False])"
      ]
     },
     "execution_count": 25,
     "metadata": {},
     "output_type": "execute_result"
    }
   ],
   "source": [
    "#let's take a look at how a single Row looks in our RDD at the moment\n",
    "x.first()\n"
   ]
  },
  {
   "cell_type": "code",
   "execution_count": null,
   "metadata": {
    "collapsed": true
   },
   "outputs": [],
   "source": []
  },
  {
   "cell_type": "code",
   "execution_count": null,
   "metadata": {
    "collapsed": true
   },
   "outputs": [],
   "source": []
  },
  {
   "cell_type": "markdown",
   "metadata": {},
   "source": [
    "# 6. Transform the timestamp into categorical features (hour, day, month)"
   ]
  },
  {
   "cell_type": "markdown",
   "metadata": {},
   "source": [
    "We will transform the time stamp in 'deadline' column to the categorical features"
   ]
  },
  {
   "cell_type": "code",
   "execution_count": 26,
   "metadata": {
    "collapsed": true
   },
   "outputs": [],
   "source": [
    "from datetime import datetime\n",
    "col_index=COL_NAMES_INDEXES['deadline']\n",
    "hour_rdd = x.map(lambda x: (x[0], x[1][col_index].hour))\n",
    "x = x.join(hour_rdd)\n",
    "x = x.map(lambda x: (x[0], [*x[1][0], x[1][1]]))\n",
    "#adding the new value to COL_NAMES and COL_NAMES_INDEXES for easier maintance\n",
    "COL_NAMES.append('deadline_hour')\n",
    "COL_NAMES_INDEXES['deadline_hour']=len(COL_NAMES)-1\n"
   ]
  },
  {
   "cell_type": "code",
   "execution_count": 27,
   "metadata": {
    "collapsed": true,
    "scrolled": true
   },
   "outputs": [],
   "source": [
    "day_rdd = x.map(lambda x: (x[0], x[1][col_index].day))\n",
    "x = x.join(day_rdd)\n",
    "x = x.map(lambda x: (x[0], [*x[1][0], x[1][1]]))\n",
    "#adding the new value to COL_NAMES and COL_NAMES_INDEXES for easier maintance\n",
    "COL_NAMES.append('deadline_day')\n",
    "COL_NAMES_INDEXES['deadline_day']=len(COL_NAMES)-1\n"
   ]
  },
  {
   "cell_type": "code",
   "execution_count": 28,
   "metadata": {
    "collapsed": true
   },
   "outputs": [],
   "source": [
    "month_rdd = x.map(lambda x: (x[0], x[1][col_index].month))\n",
    "x = x.join(month_rdd)\n",
    "x = x.map(lambda x: (x[0], [*x[1][0], x[1][1]]))\n",
    "#adding the new value to COL_NAMES and COL_NAMES_INDEXES for easier maintance\n",
    "COL_NAMES.append('deadline_month')\n",
    "COL_NAMES_INDEXES['deadline_month']=len(COL_NAMES)-1\n"
   ]
  },
  {
   "cell_type": "code",
   "execution_count": 29,
   "metadata": {},
   "outputs": [
    {
     "name": "stdout",
     "output_type": "stream",
     "text": [
      "2017-05-15 00:00:00\n",
      "hour: 0 day: 15 month: 5\n"
     ]
    }
   ],
   "source": [
    "#validity check\n",
    "print(x.take(1)[0][1][col_index])\n",
    "print(\"hour:\", x.take(1)[0][1][COL_NAMES_INDEXES['deadline_hour']], \"day:\",\n",
    "      x.take(1)[0][1][COL_NAMES_INDEXES['deadline_day']],\n",
    "      \"month:\", x.take(1)[0][1][COL_NAMES_INDEXES['deadline_month']])\n"
   ]
  },
  {
   "cell_type": "code",
   "execution_count": null,
   "metadata": {
    "collapsed": true
   },
   "outputs": [],
   "source": []
  },
  {
   "cell_type": "code",
   "execution_count": null,
   "metadata": {
    "collapsed": true
   },
   "outputs": [],
   "source": []
  },
  {
   "cell_type": "markdown",
   "metadata": {},
   "source": [
    "# 7. Choose 2 columns and normalize them."
   ]
  },
  {
   "cell_type": "markdown",
   "metadata": {},
   "source": [
    "We will normalize the 'usd_goal_real' column and the 'usd_pledged_real' column"
   ]
  },
  {
   "cell_type": "code",
   "execution_count": 30,
   "metadata": {},
   "outputs": [
    {
     "name": "stdout",
     "output_type": "stream",
     "text": [
      "Mean is: 45454.40146545325\n",
      "Standard deviation is: 1152948.5326838526\n"
     ]
    }
   ],
   "source": [
    "#normalizing 'usd_goal_real' column\n",
    "col_index=COL_NAMES_INDEXES['usd_goal_real']\n",
    "usd_goal_real_mean = x.map(lambda x: x[1][col_index]).mean()\n",
    "usd_goal_real_std = x.map(lambda x: x[1][col_index]).stdev()\n",
    "print(\"Mean is:\", usd_goal_real_mean)\n",
    "print(\"Standard deviation is:\", usd_goal_real_std)\n"
   ]
  },
  {
   "cell_type": "code",
   "execution_count": 31,
   "metadata": {
    "collapsed": true
   },
   "outputs": [],
   "source": [
    "#adding the normalized column to our main rdd\n",
    "x = x.map(lambda x: (x[0], [*x[1], (x[1][col_index] - usd_goal_real_mean) / usd_goal_real_std]))\n",
    "#adding the new value to COL_NAMES and COL_NAMES_INDEXES for easier maintance\n",
    "COL_NAMES.append('normalized_usd_goal_real')\n",
    "COL_NAMES_INDEXES['normalized_usd_goal_real']=len(COL_NAMES)-1\n"
   ]
  },
  {
   "cell_type": "code",
   "execution_count": 32,
   "metadata": {},
   "outputs": [
    {
     "name": "stdout",
     "output_type": "stream",
     "text": [
      "Mean is: 1.4785807127271067e-17\n",
      "Standard deviation is: 0.9999999999999983\n"
     ]
    }
   ],
   "source": [
    "#validity check:\n",
    "col_index=COL_NAMES_INDEXES['normalized_usd_goal_real']\n",
    "normalized_goal_mean = x.map(lambda x: x[1][col_index]).mean()\n",
    "normalized_goal_std = x.map(lambda x: x[1][col_index]).stdev()\n",
    "print(\"Mean is:\", normalized_goal_mean)\n",
    "print(\"Standard deviation is:\", normalized_goal_std)\n"
   ]
  },
  {
   "cell_type": "code",
   "execution_count": 33,
   "metadata": {},
   "outputs": [
    {
     "name": "stdout",
     "output_type": "stream",
     "text": [
      "Mean is: 9058.924074119075\n",
      "Standard deviation is: 90973.22298213448\n"
     ]
    }
   ],
   "source": [
    "#normalizing 'usd_pledged_real' column\n",
    "col_index=COL_NAMES_INDEXES['usd_pledged_real']\n",
    "usd_pledged_real_mean = x.map(lambda x: x[1][col_index]).mean()\n",
    "usd_pledged_real_real_std = x.map(lambda x: x[1][col_index]).stdev()\n",
    "print(\"Mean is:\", usd_pledged_real_mean)\n",
    "print(\"Standard deviation is:\", usd_pledged_real_real_std)\n"
   ]
  },
  {
   "cell_type": "code",
   "execution_count": 34,
   "metadata": {
    "collapsed": true
   },
   "outputs": [],
   "source": [
    "#adding the normalized column to our main rdd\n",
    "x = x.map(lambda x: (x[0], [*x[1], (x[1][col_index] - usd_pledged_real_mean) / usd_pledged_real_real_std]))\n",
    "#adding the new value to COL_NAMES and COL_NAMES_INDEXES for easier maintance\n",
    "COL_NAMES.append('normalized_usd_pledged_real')\n",
    "COL_NAMES_INDEXES['normalized_usd_pledged_real']=len(COL_NAMES)-1\n"
   ]
  },
  {
   "cell_type": "code",
   "execution_count": 35,
   "metadata": {},
   "outputs": [
    {
     "name": "stdout",
     "output_type": "stream",
     "text": [
      "Mean is: -8.972958823443705e-17\n",
      "Standard deviation is: 1.0000000000000007\n"
     ]
    }
   ],
   "source": [
    "#validity check:\n",
    "col_index=COL_NAMES_INDEXES['normalized_usd_pledged_real']\n",
    "normalized_usd_pledged_real_mean = x.map(lambda x: x[1][col_index]).mean()\n",
    "normalized_usd_pledged_real_std = x.map(lambda x: x[1][col_index]).stdev()\n",
    "print(\"Mean is:\", normalized_usd_pledged_real_mean)\n",
    "print(\"Standard deviation is:\", normalized_usd_pledged_real_std)\n"
   ]
  },
  {
   "cell_type": "code",
   "execution_count": 36,
   "metadata": {
    "scrolled": true
   },
   "outputs": [
    {
     "data": {
      "text/plain": [
       "(1005116416,\n",
       " ['Pursu. Passion. Career.',\n",
       "  'Technology',\n",
       "  'Technology',\n",
       "  'USD',\n",
       "  datetime.datetime(2017, 5, 15, 0, 0),\n",
       "  52000.0,\n",
       "  datetime.datetime(2017, 4, 20, 23, 42, 45),\n",
       "  153.0,\n",
       "  'failed',\n",
       "  2,\n",
       "  'US',\n",
       "  153.0,\n",
       "  153.0,\n",
       "  52000.0,\n",
       "  True,\n",
       "  False,\n",
       "  False,\n",
       "  False,\n",
       "  True,\n",
       "  False,\n",
       "  0,\n",
       "  15,\n",
       "  5,\n",
       "  -0.039291781186450624,\n",
       "  -0.09789610373448064])"
      ]
     },
     "execution_count": 36,
     "metadata": {},
     "output_type": "execute_result"
    }
   ],
   "source": [
    "#again, let's check and see how a single Row in our main RDD looks like\n",
    "x.first()\n"
   ]
  },
  {
   "cell_type": "code",
   "execution_count": null,
   "metadata": {
    "collapsed": true
   },
   "outputs": [],
   "source": []
  },
  {
   "cell_type": "code",
   "execution_count": null,
   "metadata": {
    "collapsed": true
   },
   "outputs": [],
   "source": []
  },
  {
   "cell_type": "markdown",
   "metadata": {},
   "source": [
    "# 8. Transform one of your text features.\n",
    "a. Do tokenization.\n",
    "b. Stop word removal - use the function StopWordsRemover from\n",
    "http://spark.apache.org/docs/latest/ml-features.html#stopwordsremover\n",
    "c. Binary vectorization."
   ]
  },
  {
   "cell_type": "markdown",
   "metadata": {},
   "source": [
    "We will choose the 'name' column as our text feature.\n",
    "* Because StopWordsRemover only applies to dataframes, and in this assignment we are required to use rdd - We used the function to get the list of stop words (using the getStopWords() method) and removed the stop words ourselves.\n",
    "* In addition to the removal of stop-words, we also made the text lower case, removed punctuation and removed short words (words consisting of 1 or 2 letters)"
   ]
  },
  {
   "cell_type": "code",
   "execution_count": 7,
   "metadata": {},
   "outputs": [
    {
     "data": {
      "text/plain": [
       "(1000002330, ['the', 'songs', 'of', 'adelaide', 'abullah'])"
      ]
     },
     "execution_count": 7,
     "metadata": {},
     "output_type": "execute_result"
    }
   ],
   "source": [
    "import re\n",
    "from pyspark.ml.feature import StopWordsRemover\n",
    "\n",
    "col_index=COL_NAMES_INDEXES['name']\n",
    "\n",
    "#getting the stop words as requested\n",
    "remover = StopWordsRemover()\n",
    "stop_words_list = remover.getStopWords()\n",
    "\n",
    "#tokenization by word + lowercase + punctuation removal\n",
    "tokenized_text_rdd = x.map(lambda x: (x[0], re.sub(r'[^\\w\\s]', '', x[1][col_index]).lower().split()))\n",
    "tokenized_text_rdd.first()\n"
   ]
  },
  {
   "cell_type": "code",
   "execution_count": 8,
   "metadata": {},
   "outputs": [
    {
     "data": {
      "text/plain": [
       "[(1000002330, ['songs', 'adelaide', 'abullah']),\n",
       " (1000003930, ['greeting', 'earth', 'zgac', 'arts', 'capsule']),\n",
       " (1000004038, ['hank']),\n",
       " (1000007540,\n",
       "  ['toshicapital', 'rekordz', 'needs', 'help', 'complete', 'album']),\n",
       " (1000011046,\n",
       "  ['community', 'film', 'project', 'art', 'neighborhood', 'filmmaking']),\n",
       " (1000014025, ['monarch', 'espresso', 'bar'])]"
      ]
     },
     "execution_count": 8,
     "metadata": {},
     "output_type": "execute_result"
    }
   ],
   "source": [
    "#stop word removal + removing words with only 2 letters or less\n",
    "tokenized_text_rdd = tokenized_text_rdd.map(\n",
    "    lambda x: (x[0], [w for w in x[1] if not w in stop_words_list and len(w) > 2]))\n",
    "tokenized_text_rdd.take(6)\n"
   ]
  },
  {
   "cell_type": "code",
   "execution_count": 23,
   "metadata": {},
   "outputs": [
    {
     "name": "stdout",
     "output_type": "stream",
     "text": [
      "number of words in corpus: 169107\n"
     ]
    }
   ],
   "source": [
    "#Binary vectorization\n",
    "#WQe'll use broadcast so the large corpus dict will be shared accross nodes\n",
    "CORPUS_WORDS = sc.broadcast(list(set(tokenized_text_rdd.flatMap(lambda x: x[1]).collect()))) \n",
    "print(\"number of words in corpus:\", len(CORPUS_WORDS.value))\n",
    "CORPUS_WORDS_DICT = sc.broadcast({k: v for v, k in enumerate(CORPUS_WORDS.value)})\n",
    "\n"
   ]
  },
  {
   "cell_type": "code",
   "execution_count": 45,
   "metadata": {},
   "outputs": [],
   "source": [
    "#helper function that calculates the binary vectorization of the observation's text according to the corpus vocabulary\n",
    "def binary_vect_func(rdd_item):\n",
    "    project_name_words = rdd_item[1]\n",
    "    res=np.zeros(len(CORPUS_WORDS.value))\n",
    "    for w in project_name_words:\n",
    "        res[CORPUS_WORDS_DICT.value[w]]=1\n",
    "        \n",
    "    return (rdd_item[0], res.tolist())\n",
    "\n"
   ]
  },
  {
   "cell_type": "code",
   "execution_count": 46,
   "metadata": {},
   "outputs": [
    {
     "data": {
      "text/plain": [
       "[(1000002330,\n",
       "  [0.0,\n",
       "   0.0,\n",
       "   0.0,\n",
       "   0.0,\n",
       "   0.0,\n",
       "   0.0,\n",
       "   0.0,\n",
       "   0.0,\n",
       "   0.0,\n",
       "   0.0,\n",
       "   0.0,\n",
       "   0.0,\n",
       "   0.0,\n",
       "   0.0,\n",
       "   0.0,\n",
       "   0.0,\n",
       "   0.0,\n",
       "   0.0,\n",
       "   0.0,\n",
       "   0.0,\n",
       "   0.0,\n",
       "   0.0,\n",
       "   0.0,\n",
       "   0.0,\n",
       "   0.0,\n",
       "   0.0,\n",
       "   0.0,\n",
       "   0.0,\n",
       "   0.0,\n",
       "   0.0,\n",
       "   0.0,\n",
       "   0.0,\n",
       "   0.0,\n",
       "   0.0,\n",
       "   0.0,\n",
       "   0.0,\n",
       "   0.0,\n",
       "   0.0,\n",
       "   0.0,\n",
       "   0.0,\n",
       "   0.0,\n",
       "   0.0,\n",
       "   0.0,\n",
       "   0.0,\n",
       "   0.0,\n",
       "   0.0,\n",
       "   0.0,\n",
       "   0.0,\n",
       "   0.0,\n",
       "   0.0,\n",
       "   0.0,\n",
       "   0.0,\n",
       "   0.0,\n",
       "   0.0,\n",
       "   0.0,\n",
       "   0.0,\n",
       "   0.0,\n",
       "   0.0,\n",
       "   0.0,\n",
       "   0.0,\n",
       "   0.0,\n",
       "   0.0,\n",
       "   0.0,\n",
       "   0.0,\n",
       "   0.0,\n",
       "   0.0,\n",
       "   0.0,\n",
       "   0.0,\n",
       "   0.0,\n",
       "   0.0,\n",
       "   0.0,\n",
       "   0.0,\n",
       "   0.0,\n",
       "   0.0,\n",
       "   0.0,\n",
       "   0.0,\n",
       "   0.0,\n",
       "   0.0,\n",
       "   0.0,\n",
       "   0.0,\n",
       "   0.0,\n",
       "   0.0,\n",
       "   0.0,\n",
       "   0.0,\n",
       "   0.0,\n",
       "   0.0,\n",
       "   0.0,\n",
       "   0.0,\n",
       "   0.0,\n",
       "   0.0,\n",
       "   0.0,\n",
       "   0.0,\n",
       "   0.0,\n",
       "   0.0,\n",
       "   0.0,\n",
       "   0.0,\n",
       "   0.0,\n",
       "   0.0,\n",
       "   0.0,\n",
       "   0.0,\n",
       "   0.0,\n",
       "   0.0,\n",
       "   0.0,\n",
       "   0.0,\n",
       "   0.0,\n",
       "   0.0,\n",
       "   0.0,\n",
       "   0.0,\n",
       "   0.0,\n",
       "   0.0,\n",
       "   0.0,\n",
       "   0.0,\n",
       "   0.0,\n",
       "   0.0,\n",
       "   0.0,\n",
       "   0.0,\n",
       "   0.0,\n",
       "   0.0,\n",
       "   0.0,\n",
       "   0.0,\n",
       "   0.0,\n",
       "   0.0,\n",
       "   0.0,\n",
       "   0.0,\n",
       "   0.0,\n",
       "   0.0,\n",
       "   0.0,\n",
       "   0.0,\n",
       "   0.0,\n",
       "   0.0,\n",
       "   0.0,\n",
       "   0.0,\n",
       "   0.0,\n",
       "   0.0,\n",
       "   0.0,\n",
       "   0.0,\n",
       "   0.0,\n",
       "   0.0,\n",
       "   0.0,\n",
       "   0.0,\n",
       "   0.0,\n",
       "   0.0,\n",
       "   0.0,\n",
       "   0.0,\n",
       "   0.0,\n",
       "   0.0,\n",
       "   0.0,\n",
       "   0.0,\n",
       "   0.0,\n",
       "   0.0,\n",
       "   0.0,\n",
       "   0.0,\n",
       "   0.0,\n",
       "   0.0,\n",
       "   0.0,\n",
       "   0.0,\n",
       "   0.0,\n",
       "   0.0,\n",
       "   0.0,\n",
       "   0.0,\n",
       "   0.0,\n",
       "   0.0,\n",
       "   0.0,\n",
       "   0.0,\n",
       "   0.0,\n",
       "   0.0,\n",
       "   0.0,\n",
       "   0.0,\n",
       "   0.0,\n",
       "   0.0,\n",
       "   0.0,\n",
       "   0.0,\n",
       "   0.0,\n",
       "   0.0,\n",
       "   0.0,\n",
       "   0.0,\n",
       "   0.0,\n",
       "   0.0,\n",
       "   0.0,\n",
       "   0.0,\n",
       "   0.0,\n",
       "   0.0,\n",
       "   0.0,\n",
       "   0.0,\n",
       "   0.0,\n",
       "   0.0,\n",
       "   0.0,\n",
       "   0.0,\n",
       "   0.0,\n",
       "   0.0,\n",
       "   0.0,\n",
       "   0.0,\n",
       "   0.0,\n",
       "   0.0,\n",
       "   0.0,\n",
       "   0.0,\n",
       "   0.0,\n",
       "   0.0,\n",
       "   0.0,\n",
       "   0.0,\n",
       "   0.0,\n",
       "   0.0,\n",
       "   0.0,\n",
       "   0.0,\n",
       "   0.0,\n",
       "   0.0,\n",
       "   0.0,\n",
       "   0.0,\n",
       "   0.0,\n",
       "   0.0,\n",
       "   0.0,\n",
       "   0.0,\n",
       "   0.0,\n",
       "   0.0,\n",
       "   0.0,\n",
       "   0.0,\n",
       "   0.0,\n",
       "   0.0,\n",
       "   0.0,\n",
       "   0.0,\n",
       "   0.0,\n",
       "   0.0,\n",
       "   0.0,\n",
       "   0.0,\n",
       "   0.0,\n",
       "   0.0,\n",
       "   0.0,\n",
       "   0.0,\n",
       "   0.0,\n",
       "   0.0,\n",
       "   0.0,\n",
       "   0.0,\n",
       "   0.0,\n",
       "   0.0,\n",
       "   0.0,\n",
       "   0.0,\n",
       "   0.0,\n",
       "   0.0,\n",
       "   0.0,\n",
       "   0.0,\n",
       "   0.0,\n",
       "   0.0,\n",
       "   0.0,\n",
       "   0.0,\n",
       "   0.0,\n",
       "   0.0,\n",
       "   0.0,\n",
       "   0.0,\n",
       "   0.0,\n",
       "   0.0,\n",
       "   0.0,\n",
       "   0.0,\n",
       "   0.0,\n",
       "   0.0,\n",
       "   0.0,\n",
       "   0.0,\n",
       "   0.0,\n",
       "   0.0,\n",
       "   0.0,\n",
       "   0.0,\n",
       "   0.0,\n",
       "   0.0,\n",
       "   0.0,\n",
       "   0.0,\n",
       "   0.0,\n",
       "   0.0,\n",
       "   0.0,\n",
       "   0.0,\n",
       "   0.0,\n",
       "   0.0,\n",
       "   0.0,\n",
       "   0.0,\n",
       "   0.0,\n",
       "   0.0,\n",
       "   0.0,\n",
       "   0.0,\n",
       "   0.0,\n",
       "   0.0,\n",
       "   0.0,\n",
       "   0.0,\n",
       "   0.0,\n",
       "   0.0,\n",
       "   0.0,\n",
       "   0.0,\n",
       "   0.0,\n",
       "   0.0,\n",
       "   0.0,\n",
       "   0.0,\n",
       "   0.0,\n",
       "   0.0,\n",
       "   0.0,\n",
       "   0.0,\n",
       "   0.0,\n",
       "   0.0,\n",
       "   0.0,\n",
       "   0.0,\n",
       "   0.0,\n",
       "   0.0,\n",
       "   0.0,\n",
       "   0.0,\n",
       "   0.0,\n",
       "   0.0,\n",
       "   0.0,\n",
       "   0.0,\n",
       "   0.0,\n",
       "   0.0,\n",
       "   0.0,\n",
       "   0.0,\n",
       "   0.0,\n",
       "   0.0,\n",
       "   0.0,\n",
       "   0.0,\n",
       "   0.0,\n",
       "   0.0,\n",
       "   0.0,\n",
       "   0.0,\n",
       "   0.0,\n",
       "   0.0,\n",
       "   0.0,\n",
       "   0.0,\n",
       "   0.0,\n",
       "   0.0,\n",
       "   0.0,\n",
       "   0.0,\n",
       "   0.0,\n",
       "   0.0,\n",
       "   0.0,\n",
       "   0.0,\n",
       "   0.0,\n",
       "   0.0,\n",
       "   0.0,\n",
       "   0.0,\n",
       "   0.0,\n",
       "   0.0,\n",
       "   0.0,\n",
       "   0.0,\n",
       "   0.0,\n",
       "   0.0,\n",
       "   0.0,\n",
       "   0.0,\n",
       "   0.0,\n",
       "   0.0,\n",
       "   0.0,\n",
       "   0.0,\n",
       "   0.0,\n",
       "   0.0,\n",
       "   0.0,\n",
       "   0.0,\n",
       "   0.0,\n",
       "   0.0,\n",
       "   0.0,\n",
       "   0.0,\n",
       "   0.0,\n",
       "   0.0,\n",
       "   0.0,\n",
       "   0.0,\n",
       "   0.0,\n",
       "   0.0,\n",
       "   0.0,\n",
       "   0.0,\n",
       "   0.0,\n",
       "   0.0,\n",
       "   0.0,\n",
       "   0.0,\n",
       "   0.0,\n",
       "   0.0,\n",
       "   0.0,\n",
       "   0.0,\n",
       "   0.0,\n",
       "   0.0,\n",
       "   0.0,\n",
       "   0.0,\n",
       "   0.0,\n",
       "   0.0,\n",
       "   0.0,\n",
       "   0.0,\n",
       "   0.0,\n",
       "   0.0,\n",
       "   0.0,\n",
       "   0.0,\n",
       "   0.0,\n",
       "   0.0,\n",
       "   0.0,\n",
       "   0.0,\n",
       "   0.0,\n",
       "   0.0,\n",
       "   0.0,\n",
       "   0.0,\n",
       "   0.0,\n",
       "   0.0,\n",
       "   0.0,\n",
       "   0.0,\n",
       "   0.0,\n",
       "   0.0,\n",
       "   0.0,\n",
       "   0.0,\n",
       "   0.0,\n",
       "   0.0,\n",
       "   0.0,\n",
       "   0.0,\n",
       "   0.0,\n",
       "   0.0,\n",
       "   0.0,\n",
       "   0.0,\n",
       "   0.0,\n",
       "   0.0,\n",
       "   0.0,\n",
       "   0.0,\n",
       "   0.0,\n",
       "   0.0,\n",
       "   0.0,\n",
       "   0.0,\n",
       "   0.0,\n",
       "   0.0,\n",
       "   0.0,\n",
       "   0.0,\n",
       "   0.0,\n",
       "   0.0,\n",
       "   0.0,\n",
       "   0.0,\n",
       "   0.0,\n",
       "   0.0,\n",
       "   0.0,\n",
       "   0.0,\n",
       "   0.0,\n",
       "   0.0,\n",
       "   0.0,\n",
       "   0.0,\n",
       "   0.0,\n",
       "   0.0,\n",
       "   0.0,\n",
       "   0.0,\n",
       "   0.0,\n",
       "   0.0,\n",
       "   0.0,\n",
       "   0.0,\n",
       "   0.0,\n",
       "   0.0,\n",
       "   0.0,\n",
       "   0.0,\n",
       "   0.0,\n",
       "   0.0,\n",
       "   0.0,\n",
       "   0.0,\n",
       "   0.0,\n",
       "   0.0,\n",
       "   0.0,\n",
       "   0.0,\n",
       "   0.0,\n",
       "   0.0,\n",
       "   0.0,\n",
       "   0.0,\n",
       "   0.0,\n",
       "   0.0,\n",
       "   0.0,\n",
       "   0.0,\n",
       "   0.0,\n",
       "   0.0,\n",
       "   0.0,\n",
       "   0.0,\n",
       "   0.0,\n",
       "   0.0,\n",
       "   0.0,\n",
       "   0.0,\n",
       "   0.0,\n",
       "   0.0,\n",
       "   0.0,\n",
       "   0.0,\n",
       "   0.0,\n",
       "   0.0,\n",
       "   0.0,\n",
       "   0.0,\n",
       "   0.0,\n",
       "   0.0,\n",
       "   0.0,\n",
       "   0.0,\n",
       "   0.0,\n",
       "   0.0,\n",
       "   0.0,\n",
       "   0.0,\n",
       "   0.0,\n",
       "   0.0,\n",
       "   0.0,\n",
       "   0.0,\n",
       "   0.0,\n",
       "   0.0,\n",
       "   0.0,\n",
       "   0.0,\n",
       "   0.0,\n",
       "   0.0,\n",
       "   0.0,\n",
       "   0.0,\n",
       "   0.0,\n",
       "   0.0,\n",
       "   0.0,\n",
       "   0.0,\n",
       "   0.0,\n",
       "   0.0,\n",
       "   0.0,\n",
       "   0.0,\n",
       "   0.0,\n",
       "   0.0,\n",
       "   0.0,\n",
       "   0.0,\n",
       "   0.0,\n",
       "   0.0,\n",
       "   0.0,\n",
       "   0.0,\n",
       "   0.0,\n",
       "   0.0,\n",
       "   0.0,\n",
       "   0.0,\n",
       "   0.0,\n",
       "   0.0,\n",
       "   0.0,\n",
       "   0.0,\n",
       "   0.0,\n",
       "   0.0,\n",
       "   0.0,\n",
       "   0.0,\n",
       "   0.0,\n",
       "   0.0,\n",
       "   0.0,\n",
       "   0.0,\n",
       "   0.0,\n",
       "   0.0,\n",
       "   0.0,\n",
       "   0.0,\n",
       "   0.0,\n",
       "   0.0,\n",
       "   0.0,\n",
       "   0.0,\n",
       "   0.0,\n",
       "   0.0,\n",
       "   0.0,\n",
       "   0.0,\n",
       "   0.0,\n",
       "   0.0,\n",
       "   0.0,\n",
       "   0.0,\n",
       "   0.0,\n",
       "   0.0,\n",
       "   0.0,\n",
       "   0.0,\n",
       "   0.0,\n",
       "   0.0,\n",
       "   0.0,\n",
       "   0.0,\n",
       "   0.0,\n",
       "   0.0,\n",
       "   0.0,\n",
       "   0.0,\n",
       "   0.0,\n",
       "   0.0,\n",
       "   0.0,\n",
       "   0.0,\n",
       "   0.0,\n",
       "   0.0,\n",
       "   0.0,\n",
       "   0.0,\n",
       "   0.0,\n",
       "   0.0,\n",
       "   0.0,\n",
       "   0.0,\n",
       "   0.0,\n",
       "   0.0,\n",
       "   0.0,\n",
       "   0.0,\n",
       "   0.0,\n",
       "   0.0,\n",
       "   0.0,\n",
       "   0.0,\n",
       "   0.0,\n",
       "   0.0,\n",
       "   0.0,\n",
       "   0.0,\n",
       "   0.0,\n",
       "   0.0,\n",
       "   0.0,\n",
       "   0.0,\n",
       "   0.0,\n",
       "   0.0,\n",
       "   0.0,\n",
       "   0.0,\n",
       "   0.0,\n",
       "   0.0,\n",
       "   0.0,\n",
       "   0.0,\n",
       "   0.0,\n",
       "   0.0,\n",
       "   0.0,\n",
       "   0.0,\n",
       "   0.0,\n",
       "   0.0,\n",
       "   0.0,\n",
       "   0.0,\n",
       "   0.0,\n",
       "   0.0,\n",
       "   0.0,\n",
       "   0.0,\n",
       "   0.0,\n",
       "   0.0,\n",
       "   0.0,\n",
       "   0.0,\n",
       "   0.0,\n",
       "   0.0,\n",
       "   0.0,\n",
       "   0.0,\n",
       "   0.0,\n",
       "   0.0,\n",
       "   0.0,\n",
       "   0.0,\n",
       "   0.0,\n",
       "   0.0,\n",
       "   0.0,\n",
       "   0.0,\n",
       "   0.0,\n",
       "   0.0,\n",
       "   0.0,\n",
       "   0.0,\n",
       "   0.0,\n",
       "   0.0,\n",
       "   0.0,\n",
       "   0.0,\n",
       "   0.0,\n",
       "   0.0,\n",
       "   0.0,\n",
       "   0.0,\n",
       "   0.0,\n",
       "   0.0,\n",
       "   0.0,\n",
       "   0.0,\n",
       "   0.0,\n",
       "   0.0,\n",
       "   0.0,\n",
       "   0.0,\n",
       "   0.0,\n",
       "   0.0,\n",
       "   0.0,\n",
       "   0.0,\n",
       "   0.0,\n",
       "   0.0,\n",
       "   0.0,\n",
       "   0.0,\n",
       "   0.0,\n",
       "   0.0,\n",
       "   0.0,\n",
       "   0.0,\n",
       "   0.0,\n",
       "   0.0,\n",
       "   0.0,\n",
       "   0.0,\n",
       "   0.0,\n",
       "   0.0,\n",
       "   0.0,\n",
       "   0.0,\n",
       "   0.0,\n",
       "   0.0,\n",
       "   0.0,\n",
       "   0.0,\n",
       "   0.0,\n",
       "   0.0,\n",
       "   0.0,\n",
       "   0.0,\n",
       "   0.0,\n",
       "   0.0,\n",
       "   0.0,\n",
       "   0.0,\n",
       "   0.0,\n",
       "   0.0,\n",
       "   0.0,\n",
       "   0.0,\n",
       "   0.0,\n",
       "   0.0,\n",
       "   0.0,\n",
       "   0.0,\n",
       "   0.0,\n",
       "   0.0,\n",
       "   0.0,\n",
       "   0.0,\n",
       "   0.0,\n",
       "   0.0,\n",
       "   0.0,\n",
       "   0.0,\n",
       "   0.0,\n",
       "   0.0,\n",
       "   0.0,\n",
       "   0.0,\n",
       "   0.0,\n",
       "   0.0,\n",
       "   0.0,\n",
       "   0.0,\n",
       "   0.0,\n",
       "   0.0,\n",
       "   0.0,\n",
       "   0.0,\n",
       "   0.0,\n",
       "   0.0,\n",
       "   0.0,\n",
       "   0.0,\n",
       "   0.0,\n",
       "   0.0,\n",
       "   0.0,\n",
       "   0.0,\n",
       "   0.0,\n",
       "   0.0,\n",
       "   0.0,\n",
       "   0.0,\n",
       "   0.0,\n",
       "   0.0,\n",
       "   0.0,\n",
       "   0.0,\n",
       "   0.0,\n",
       "   0.0,\n",
       "   0.0,\n",
       "   0.0,\n",
       "   0.0,\n",
       "   0.0,\n",
       "   0.0,\n",
       "   0.0,\n",
       "   0.0,\n",
       "   0.0,\n",
       "   0.0,\n",
       "   0.0,\n",
       "   0.0,\n",
       "   0.0,\n",
       "   0.0,\n",
       "   0.0,\n",
       "   0.0,\n",
       "   0.0,\n",
       "   0.0,\n",
       "   0.0,\n",
       "   0.0,\n",
       "   0.0,\n",
       "   0.0,\n",
       "   0.0,\n",
       "   0.0,\n",
       "   0.0,\n",
       "   0.0,\n",
       "   0.0,\n",
       "   0.0,\n",
       "   0.0,\n",
       "   0.0,\n",
       "   0.0,\n",
       "   0.0,\n",
       "   0.0,\n",
       "   0.0,\n",
       "   0.0,\n",
       "   0.0,\n",
       "   0.0,\n",
       "   0.0,\n",
       "   0.0,\n",
       "   0.0,\n",
       "   0.0,\n",
       "   0.0,\n",
       "   0.0,\n",
       "   0.0,\n",
       "   0.0,\n",
       "   0.0,\n",
       "   0.0,\n",
       "   0.0,\n",
       "   0.0,\n",
       "   0.0,\n",
       "   0.0,\n",
       "   0.0,\n",
       "   0.0,\n",
       "   0.0,\n",
       "   0.0,\n",
       "   0.0,\n",
       "   0.0,\n",
       "   0.0,\n",
       "   0.0,\n",
       "   0.0,\n",
       "   0.0,\n",
       "   0.0,\n",
       "   0.0,\n",
       "   0.0,\n",
       "   0.0,\n",
       "   0.0,\n",
       "   0.0,\n",
       "   0.0,\n",
       "   0.0,\n",
       "   0.0,\n",
       "   0.0,\n",
       "   0.0,\n",
       "   0.0,\n",
       "   0.0,\n",
       "   0.0,\n",
       "   0.0,\n",
       "   0.0,\n",
       "   0.0,\n",
       "   0.0,\n",
       "   0.0,\n",
       "   0.0,\n",
       "   0.0,\n",
       "   0.0,\n",
       "   0.0,\n",
       "   0.0,\n",
       "   0.0,\n",
       "   0.0,\n",
       "   0.0,\n",
       "   0.0,\n",
       "   0.0,\n",
       "   0.0,\n",
       "   0.0,\n",
       "   0.0,\n",
       "   0.0,\n",
       "   0.0,\n",
       "   0.0,\n",
       "   0.0,\n",
       "   0.0,\n",
       "   0.0,\n",
       "   0.0,\n",
       "   0.0,\n",
       "   0.0,\n",
       "   0.0,\n",
       "   0.0,\n",
       "   0.0,\n",
       "   0.0,\n",
       "   0.0,\n",
       "   0.0,\n",
       "   0.0,\n",
       "   0.0,\n",
       "   0.0,\n",
       "   0.0,\n",
       "   0.0,\n",
       "   0.0,\n",
       "   0.0,\n",
       "   0.0,\n",
       "   0.0,\n",
       "   0.0,\n",
       "   0.0,\n",
       "   0.0,\n",
       "   0.0,\n",
       "   0.0,\n",
       "   0.0,\n",
       "   0.0,\n",
       "   0.0,\n",
       "   0.0,\n",
       "   0.0,\n",
       "   0.0,\n",
       "   0.0,\n",
       "   0.0,\n",
       "   0.0,\n",
       "   0.0,\n",
       "   0.0,\n",
       "   0.0,\n",
       "   0.0,\n",
       "   0.0,\n",
       "   0.0,\n",
       "   0.0,\n",
       "   0.0,\n",
       "   0.0,\n",
       "   0.0,\n",
       "   0.0,\n",
       "   0.0,\n",
       "   0.0,\n",
       "   0.0,\n",
       "   0.0,\n",
       "   0.0,\n",
       "   0.0,\n",
       "   0.0,\n",
       "   0.0,\n",
       "   0.0,\n",
       "   0.0,\n",
       "   0.0,\n",
       "   0.0,\n",
       "   0.0,\n",
       "   0.0,\n",
       "   0.0,\n",
       "   0.0,\n",
       "   0.0,\n",
       "   0.0,\n",
       "   0.0,\n",
       "   0.0,\n",
       "   0.0,\n",
       "   0.0,\n",
       "   0.0,\n",
       "   0.0,\n",
       "   0.0,\n",
       "   0.0,\n",
       "   0.0,\n",
       "   0.0,\n",
       "   0.0,\n",
       "   0.0,\n",
       "   0.0,\n",
       "   0.0,\n",
       "   0.0,\n",
       "   0.0,\n",
       "   0.0,\n",
       "   0.0,\n",
       "   0.0,\n",
       "   0.0,\n",
       "   0.0,\n",
       "   0.0,\n",
       "   0.0,\n",
       "   0.0,\n",
       "   0.0,\n",
       "   0.0,\n",
       "   0.0,\n",
       "   0.0,\n",
       "   0.0,\n",
       "   0.0,\n",
       "   0.0,\n",
       "   0.0,\n",
       "   0.0,\n",
       "   0.0,\n",
       "   0.0,\n",
       "   0.0,\n",
       "   0.0,\n",
       "   0.0,\n",
       "   0.0,\n",
       "   0.0,\n",
       "   0.0,\n",
       "   0.0,\n",
       "   0.0,\n",
       "   0.0,\n",
       "   0.0,\n",
       "   0.0,\n",
       "   0.0,\n",
       "   0.0,\n",
       "   0.0,\n",
       "   0.0,\n",
       "   0.0,\n",
       "   0.0,\n",
       "   0.0,\n",
       "   0.0,\n",
       "   0.0,\n",
       "   0.0,\n",
       "   0.0,\n",
       "   0.0,\n",
       "   0.0,\n",
       "   0.0,\n",
       "   0.0,\n",
       "   0.0,\n",
       "   0.0,\n",
       "   0.0,\n",
       "   0.0,\n",
       "   0.0,\n",
       "   0.0,\n",
       "   0.0,\n",
       "   0.0,\n",
       "   0.0,\n",
       "   0.0,\n",
       "   0.0,\n",
       "   0.0,\n",
       "   0.0,\n",
       "   0.0,\n",
       "   0.0,\n",
       "   0.0,\n",
       "   0.0,\n",
       "   0.0,\n",
       "   0.0,\n",
       "   0.0,\n",
       "   0.0,\n",
       "   0.0,\n",
       "   0.0,\n",
       "   0.0,\n",
       "   0.0,\n",
       "   0.0,\n",
       "   0.0,\n",
       "   0.0,\n",
       "   0.0,\n",
       "   0.0,\n",
       "   0.0,\n",
       "   0.0,\n",
       "   0.0,\n",
       "   0.0,\n",
       "   0.0,\n",
       "   0.0,\n",
       "   0.0,\n",
       "   0.0,\n",
       "   0.0,\n",
       "   0.0,\n",
       "   0.0,\n",
       "   0.0,\n",
       "   0.0,\n",
       "   0.0,\n",
       "   0.0,\n",
       "   0.0,\n",
       "   0.0,\n",
       "   0.0,\n",
       "   0.0,\n",
       "   0.0,\n",
       "   0.0,\n",
       "   0.0,\n",
       "   0.0,\n",
       "   0.0,\n",
       "   0.0,\n",
       "   0.0,\n",
       "   0.0,\n",
       "   0.0,\n",
       "   0.0,\n",
       "   0.0,\n",
       "   0.0,\n",
       "   0.0,\n",
       "   0.0,\n",
       "   0.0,\n",
       "   0.0,\n",
       "   0.0,\n",
       "   ...])]"
      ]
     },
     "execution_count": 46,
     "metadata": {},
     "output_type": "execute_result"
    }
   ],
   "source": [
    "binary_vect_rdd=tokenized_text_rdd.map(binary_vect_func)\n",
    "binary_vect_rdd.take(1)\n"
   ]
  },
  {
   "cell_type": "code",
   "execution_count": 47,
   "metadata": {},
   "outputs": [],
   "source": [
    "#adding the tokenized name (without stopwords) to the main rdd\n",
    "x = x.join(tokenized_text_rdd)\n",
    "x = x.map(lambda x: (x[0], [*x[1][0], x[1][1]]))\n",
    "#adding the new value to COL_NAMES and COL_NAMES_INDEXES for easier maintance\n",
    "COL_NAMES.append('tokenized_text_rdd')\n",
    "COL_NAMES_INDEXES['tokenized_text_rdd']=len(COL_NAMES)-1\n"
   ]
  },
  {
   "cell_type": "code",
   "execution_count": 48,
   "metadata": {},
   "outputs": [],
   "source": [
    "#adding the binary vectoraziation to the main rdd\n",
    "x = x.join(binary_vect_rdd)\n",
    "x = x.map(lambda x: (x[0], [*x[1][0], x[1][1]]))\n",
    "#adding the new value to COL_NAMES and COL_NAMES_INDEXES for easier maintance\n",
    "COL_NAMES.append('binary_vect_rdd')\n",
    "COL_NAMES_INDEXES['binary_vect_rdd']=len(COL_NAMES)-1\n"
   ]
  },
  {
   "cell_type": "code",
   "execution_count": null,
   "metadata": {
    "collapsed": true
   },
   "outputs": [],
   "source": []
  }
 ],
 "metadata": {
  "celltoolbar": "Edit Metadata",
  "kernelspec": {
   "display_name": "Python 3",
   "language": "python",
   "name": "python3"
  },
  "language_info": {
   "codemirror_mode": {
    "name": "ipython",
    "version": 3
   },
   "file_extension": ".py",
   "mimetype": "text/x-python",
   "name": "python",
   "nbconvert_exporter": "python",
   "pygments_lexer": "ipython3",
   "version": "3.7.1"
  }
 },
 "nbformat": 4,
 "nbformat_minor": 2
}
