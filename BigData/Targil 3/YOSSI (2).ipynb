{
 "cells": [
  {
   "cell_type": "code",
   "execution_count": 1,
   "metadata": {},
   "outputs": [],
   "source": [
    "from pyspark.sql.functions import *\n",
    "import string\n",
    "\n",
    "wine_data =spark.read.option(\"header\", \"true\").option(\"mode\", \"DROPMALFORMED\").csv(\"winemag-data-130k-v2.csv\")\n",
    "wine_data = wine_data.select('points','description').dropna()"
   ]
  },
  {
   "cell_type": "code",
   "execution_count": null,
   "metadata": {},
   "outputs": [],
   "source": [
    "# return the wordnet object value corresponding to the POS tag\n",
    "from nltk.corpus import wordnet\n",
    "from pyspark.sql.functions import udf\n",
    "\n",
    "def get_wordnet_pos(treebank_tag):\n",
    "    \"\"\"\n",
    "    return WORDNET POS compliance to WORDENT lemmatization (a,n,r,v) \n",
    "    \"\"\"\n",
    "    if treebank_tag.startswith('J'):\n",
    "        return wordnet.ADJ\n",
    "    elif treebank_tag.startswith('V'):\n",
    "        return wordnet.VERB\n",
    "    elif treebank_tag.startswith('N'):\n",
    "        return wordnet.NOUN\n",
    "    elif treebank_tag.startswith('R'):\n",
    "        return wordnet.ADV\n",
    "    else:\n",
    "        # As default pos in lemmatization is Noun\n",
    "        return wordnet.NOUN\n",
    "    \n",
    "import string\n",
    "import nltk\n",
    "from nltk import pos_tag\n",
    "from nltk.corpus import stopwords\n",
    "from nltk.stem import WordNetLemmatizer \n",
    "from nltk.tokenize import word_tokenize\n",
    "\n",
    "lemmatizer = WordNetLemmatizer()\n",
    "analyzer = SentimentIntensityAnalyzer() \n",
    "\n",
    "\n",
    "# Lemmatization is the process of converting a word to its base form.\n",
    "# The difference between stemming and lemmatization is,\n",
    "# lemmatization considers the context and converts the word to its meaningful base form, \n",
    "# whereas stemming just removes the last few characters, often leading to incorrect meanings and spelling errors.\n",
    "\n",
    "\n",
    "\n",
    "def clean_text(text):\n",
    "    #tokenize text and remove puncutation\n",
    "    tokens = word_tokenize(text)\n",
    "    # convert to lower case\n",
    "    tokens = [w.lower() for w in tokens]\n",
    "\n",
    "    # remove punctuation from each word\n",
    "    table = str.maketrans('', '', string.punctuation)\n",
    "    stripped = [w.translate(table) for w in tokens]\n",
    "    \n",
    "    from nltk.corpus import stopwords\n",
    "    stop=set(stopwords.words('english'))\n",
    "    text = [x for x in stripped if x not in stop]\n",
    "    \n",
    "    # remove empty tokens\n",
    "    text = [t for t in text if len(t) > 0]\n",
    "    \n",
    "    # pos tag text\n",
    "    pos_tags = pos_tag(text)\n",
    "\n",
    "    # lemmatize text\n",
    "    text = [lemmatizer.lemmatize(t[0], get_wordnet_pos(t[1])) for t in pos_tags]\n",
    "\n",
    "    # remove words with only one letter\n",
    "    text = [t for t in text if len(t) > 1]\n",
    "    # join all\n",
    "\n",
    "    return text\n",
    "\n",
    "def vadar_analyzer(text):\n",
    "    text = \" \".join(text)\n",
    "    score =  analyzer.polarity_scores(text)\n",
    "    return score['compound']\n",
    "\n",
    "clean_text_udf = udf(clean_text)\n",
    "vadar_analyzer_udf = udf(vadar_analyzer)\n",
    "\n",
    "wine = wine_data.withColumn(\"review\", clean_text_udf(col(\"description\")))\n",
    "wine = wine.withColumn(\"customer_review_score\", vadar_analyzer_udf(col(\"review\")))\n",
    "wine = wine.withColumn(\"label\", when(col(\"description\")>80, 1.0).otherwise(0.0))\n",
    "wine = wine.select([\"description\",\"label\",\"customer_review_score\"])\n",
    "\n",
    "positive = wine.filter((col(\"customer_review_score\") >= 0.75))\n",
    "negetive = wine.filter((col(\"customer_review_score\") <= -0.75))        \n",
    "ironicly = wine.filter((col(\"customer_review_score\") <= -0.75) & (col(\"label\") == 1))    \n",
    "\n",
    "\n"
   ]
  },
  {
   "cell_type": "code",
   "execution_count": null,
   "metadata": {},
   "outputs": [],
   "source": [
    "\n",
    "ironicly = ironicly.rdd\n",
    "ironicly.collect()"
   ]
  },
  {
   "cell_type": "code",
   "execution_count": null,
   "metadata": {},
   "outputs": [],
   "source": [
    "negetive = negetive.rdd\n",
    "negetive.collect()"
   ]
  },
  {
   "cell_type": "code",
   "execution_count": null,
   "metadata": {},
   "outputs": [],
   "source": [
    "positive = positive.rdd\n",
    "positive.collect()"
   ]
  },
  {
   "cell_type": "code",
   "execution_count": null,
   "metadata": {},
   "outputs": [],
   "source": []
  },
  {
   "cell_type": "code",
   "execution_count": null,
   "metadata": {},
   "outputs": [],
   "source": []
  },
  {
   "cell_type": "code",
   "execution_count": null,
   "metadata": {},
   "outputs": [],
   "source": []
  }
 ],
 "metadata": {
  "kernelspec": {
   "display_name": "Python 3",
   "language": "python",
   "name": "python3"
  },
  "language_info": {
   "codemirror_mode": {
    "name": "ipython",
    "version": 3
   },
   "file_extension": ".py",
   "mimetype": "text/x-python",
   "name": "python",
   "nbconvert_exporter": "python",
   "pygments_lexer": "ipython3",
   "version": "3.7.3"
  }
 },
 "nbformat": 4,
 "nbformat_minor": 2
}
