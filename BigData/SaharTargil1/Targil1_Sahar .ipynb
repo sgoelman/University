{
 "cells": [
  {
   "cell_type": "code",
   "execution_count": 1,
   "metadata": {},
   "outputs": [],
   "source": [
    "#TARGIL No. 1 \n",
    "# By Sahar Goelman\n",
    "# selected database: rasturants.csv\n",
    "#TODO: add link to the resource"
   ]
  },
  {
   "cell_type": "code",
   "execution_count": 23,
   "metadata": {},
   "outputs": [
    {
     "name": "stdout",
     "output_type": "stream",
     "text": [
      "Populating the interactive namespace from numpy and matplotlib\n"
     ]
    },
    {
     "name": "stderr",
     "output_type": "stream",
     "text": [
      "C:\\Users\\sgoel\\Anaconda3\\lib\\site-packages\\IPython\\core\\magics\\pylab.py:160: UserWarning: pylab import has clobbered these variables: ['norm', 'std', 'mean']\n`%matplotlib` prevents importing * from pylab and numpy\n  \"\\n`%matplotlib` prevents importing * from pylab and numpy\"\n"
     ]
    }
   ],
   "source": [
    "%pylab inline\n",
    "import os\n",
    "import datetime\n"
   ]
  },
  {
   "cell_type": "code",
   "execution_count": 24,
   "metadata": {},
   "outputs": [],
   "source": [
    "## Validate that the database file exists otherwise break\n",
    "if  not os.path.isfile(\"resturants.csv\"):\n",
    "    print(\"please add resturants.csv to :\"+os.getcwd())"
   ]
  },
  {
   "cell_type": "code",
   "execution_count": 25,
   "metadata": {},
   "outputs": [
    {
     "name": "stdout",
     "output_type": "stream",
     "text": [
      "Column names: business_id,business_name,business_address,business_city,business_state,business_postal_code,business_latitude,business_longitude,business_location,business_phone_number,inspection_id,inspection_date,inspection_score,inspection_type,violation_id,violation_description,risk_category\n"
     ]
    },
    {
     "name": "stdout",
     "output_type": "stream",
     "text": [
      "Number of rows loaded: 53577\n"
     ]
    }
   ],
   "source": [
    "#question (1) loading the database\n",
    "csv = sc.textFile(\"resturants.csv\")\n",
    "\n",
    "csv_header = csv.first() \n",
    "print(\"Column names:\",format(csv_header))\n",
    "csv_data = csv.filter(lambda line : line != csv_header) #remove csv headers from data\n",
    "print(\"Number of rows loaded: {}\".format(csv.count()))"
   ]
  },
  {
   "cell_type": "code",
   "execution_count": 26,
   "metadata": {},
   "outputs": [
    {
     "data": {
      "text/plain": [
       "[12]"
      ]
     },
     "execution_count": 26,
     "metadata": {},
     "output_type": "execute_result"
    }
   ],
   "source": [
    "class FiveHeaders:\n",
    "    def __init__(self):\n",
    "        self.values = []\n",
    "        self.csv_header = dict()\n",
    "    def add_headers(self, key, val):\n",
    "        self.csv_header[key] = val\n",
    "    def get_header(self, key):\n",
    "        return self.csv_header[key]\n",
    "    def get_all_values(self):\n",
    "        self.values = list(self.csv_header.values())\n",
    "        return self.values\n",
    "    def get_index_from_key(self, key):\n",
    "        index_in_header = self.get_header(key)\n",
    "        self.values.index(index_in_header)\n",
    "        return self.values.index(index_in_header)\n",
    "\n",
    "\n",
    "split_headers= csv_header.split(\",\")\n",
    "fiveHeaders = FiveHeaders()\n",
    "headers = ['inspection_score'] #, 'business_id','business_id','business_id','business_id']\n",
    "# headers = ['inspection_score', 'business_id','inspection_id','business_postal_code', 'business_phone_number']\n",
    "for header in headers: \n",
    "     fiveHeaders.add_headers(header, split_headers.index(header))\n",
    "\n",
    "# fiveHeaders.get_header('inspection_score')\n",
    "fiveHeaders.get_all_values()\n",
    "\n"
   ]
  },
  {
   "cell_type": "code",
   "execution_count": 27,
   "metadata": {},
   "outputs": [
    {
     "name": "stdout",
     "output_type": "stream",
     "text": [
      "Added unique id at column 0:\nfirst=: (0, ['39810', 'Cherry Blossom Bakery', '844 Clement St', 'San Francisco', 'CA', '94118', '37.782778', '-122.468341', '\"{\\'latitude\\': \\'37.782778\\'', \" 'needs_recoding': False\", ' \\'human_address\\': \\'{\"\"address\"\":\"\"\"\"', '\"\"city\"\":\"\"\"\"', '\"\"state\"\":\"\"\"\"', '\"\"zip\"\":\"\"\"\"}\\'', ' \\'longitude\\': \\'-122.468341\\'}\"', '', '39810_20160308', '2016-03-08T00:00:00', '77', 'Routine - Unscheduled', '39810_20160308_103124', 'Inadequately cleaned or sanitized food contact surfaces', 'Moderate Risk'])\n"
     ]
    },
    {
     "name": "stdout",
     "output_type": "stream",
     "text": [
      "Added unique id at column 0:\nfirst[1]: ['39810', 'Cherry Blossom Bakery', '844 Clement St', 'San Francisco', 'CA', '94118', '37.782778', '-122.468341', '\"{\\'latitude\\': \\'37.782778\\'', \" 'needs_recoding': False\", ' \\'human_address\\': \\'{\"\"address\"\":\"\"\"\"', '\"\"city\"\":\"\"\"\"', '\"\"state\"\":\"\"\"\"', '\"\"zip\"\":\"\"\"\"}\\'', ' \\'longitude\\': \\'-122.468341\\'}\"', '', '39810_20160308', '2016-03-08T00:00:00', '77', 'Routine - Unscheduled', '39810_20160308_103124', 'Inadequately cleaned or sanitized food contact surfaces', 'Moderate Risk']\n"
     ]
    },
    {
     "name": "stdout",
     "output_type": "stream",
     "text": [
      "Added unique id at column 0:\nfirst[1][1]: Cherry Blossom Bakery\n"
     ]
    },
    {
     "name": "stdout",
     "output_type": "stream",
     "text": [
      "number of rows in dataBase: 53576\n"
     ]
    }
   ],
   "source": [
    "#problem number (2):\n",
    "\n",
    "#RDD is assumed to contain an (unique) index column at position 0\n",
    "def get_RDD_row_by_index(rdd, index=0):\n",
    "    nrows = rdd.count()\n",
    "    if index < nrows:\n",
    "        return rdd.filter(lambda kv: kv[0] == index)\n",
    "    return None\n",
    "\n",
    "#RDD is assumed to contain the requested col_nama\n",
    "def get_RDD_col_values(rdd, col_name):\n",
    "    col_index = fv.get_index_from_key(col_name)\n",
    "    return rdd.map(lambda line: line[1][col_index])\n",
    "\n",
    "\n",
    "#add a unique_id and split csv using commas\n",
    "baseData = csv_data.zipWithIndex().map(lambda line: (line[-1],line[:-1][0].split(\",\")))\n",
    "print(\"Added unique id at column 0:\\nfirst=: {}\".format(baseData.first()))\n",
    "print(\"Added unique id at column 0:\\nfirst[1]: {}\".format(baseData.first()[1]))\n",
    "print(\"Added unique id at column 0:\\nfirst[1][1]: {}\".format(baseData.first()[1][1]))\n",
    "#test our method to get the n'th row from RDD\n",
    "#print(\"take the {}th row from Data: {}\".format(75, get_RDD_row_by_index(baseData,75).first()))\n",
    "print('number of rows in dataBase: {}'.format(baseData.count()))\n"
   ]
  },
  {
   "cell_type": "code",
   "execution_count": 28,
   "metadata": {},
   "outputs": [
    {
     "name": "stdout",
     "output_type": "stream",
     "text": [
      "header indexes are:[12]"
     ]
    },
    {
     "name": "stdout",
     "output_type": "stream",
     "text": [
      "\n"
     ]
    },
    {
     "name": "stdout",
     "output_type": "stream",
     "text": [
      "rdd[100][0] = 63940\n"
     ]
    }
   ],
   "source": [
    "#problem number (3.a): unique values of the 5 columns \n",
    "#RDD is assumed to contain the requested col_name\n",
    "#row 0 is the first row\n",
    "def get_RDD_col_value(rdd, row_index, col_name):\n",
    "    print (\"header indexes are:{}\".format(fiveHeaders.get_all_values()))\n",
    "    col_index = fiveHeaders.get_index_from_key(col_name)\n",
    "    row = get_RDD_row_by_index(rdd, row_index)\n",
    "    val  = row.first()[1][col_index]\n",
    "    print (\"rdd[{}][{}] = {}\".format(row_index, col_index,val))\n",
    "\n",
    "\n",
    "get_RDD_col_value(baseData, 100, 'inspection_score')"
   ]
  },
  {
   "cell_type": "code",
   "execution_count": 29,
   "metadata": {},
   "outputs": [
    {
     "name": "stdout",
     "output_type": "stream",
     "text": [
      "filtering data\n<__main__.Data_Filter object at 0x0000022FDDF9EC50>\nend filtering data\n"
     ]
    }
   ],
   "source": [
    "import math\n",
    "#allows counting only numerical columns\n",
    "class Data_Filter():\n",
    "    def __init__(self, header_name):\n",
    "        self.col_indexes = header_name.get_all_values()\n",
    "        self.build_line = self._builder(self.list_creator)\n",
    "        self.build_filter = self._builder(self.create_filter_is_num)\n",
    "        \n",
    "    def _builder(self, func):\n",
    "        return func(self.col_indexes)\n",
    "\n",
    "    def number(self, s):\n",
    "        ret = None\n",
    "        try:\n",
    "            ret = int(s)\n",
    "        except ValueError:\n",
    "            ret = float(s)\n",
    "        finally:\n",
    "            return ret\n",
    "\n",
    "    def is_not_number(self, s):\n",
    "        ret = False\n",
    "        try:\n",
    "            #print(\"value = \".format(s))\n",
    "            if (math.isnan(self.number(s))):  #not a number\n",
    "                ret = True\n",
    "        except:\n",
    "            print(\"exception in is_not_number, s = {}\".format(s))\n",
    "            ret = True\n",
    "        finally:\n",
    "            return ret\n",
    "\n",
    "    def list_creator(self, col_indexes):\n",
    "        def get_unique_line(_line, unique_id, append_num=True):\n",
    "            items = []\n",
    "            for col in col_indexes:\n",
    "                if append_num:\n",
    "                    item = self.number(_line[col])\n",
    "                else:\n",
    "                    item = _line[col]\n",
    "                items.append(item)\n",
    "            return (unique_id, items)\n",
    "        return get_unique_line\n",
    "\n",
    "\n",
    "    def create_filter_is_num(self, col_indexes):\n",
    "\n",
    "        def check_is_number(_line):\n",
    "            ret = True\n",
    "            for col in col_indexes:\n",
    "                try:\n",
    "                    #print (\"_line = {}\".format(_line))\n",
    "                    #print (\"value[{}]: {}\".format(col, _line[col]))\n",
    "                    if (math.isnan(self.number(_line[col]))):\n",
    "                        ret = False\n",
    "                except:\n",
    "                    #TODO\n",
    "                    print('create_filter_is_num caught an exception\\n _line[{}]={}'.format(col, _line[col]))\n",
    "                    ret = False\n",
    "            return ret\n",
    "        return check_is_number\n",
    "\n",
    "print (\"filtering data\")\n",
    "filtered_data = Data_Filter(fiveHeaders)\n",
    "print(filtered_data)\n",
    "print(\"end filtering data\")"
   ]
  },
  {
   "cell_type": "code",
   "execution_count": 30,
   "metadata": {},
   "outputs": [
    {
     "name": "stdout",
     "output_type": "stream",
     "text": [
      "index of col_names[inspection_score] = 12\n"
     ]
    }
   ],
   "source": [
    "i = 0\n",
    "for col_name in headers: \n",
    "    print(\"index of col_names[{}] = {}\".format(col_name,filtered_data.col_indexes[i]))\n",
    "    i = i + 1\n",
    "    \n",
    "filteredByColumn = baseData.filter(lambda line: filtered_data.build_filter(line[1])).map(lambda line: filtered_data.build_line(line[1], line[0]))\n",
    "\n",
    "def count_distinct(filter_by_column, headerName, key):\n",
    "    res =  filter_by_column.map(lambda pair: pair[1][headerName.get_index_from_key(key)]).distinct().count()\n",
    "    return res\n",
    "def print_distinct(col_name):\n",
    "        cnt = count_distinct(filteredByColumn, fiveHeaders, col_name)\n",
    "        print('Distint values of col: {} = {}'.format(col_name, cnt))\n",
    "        return cnt"
   ]
  },
  {
   "cell_type": "code",
   "execution_count": 31,
   "metadata": {},
   "outputs": [
    {
     "name": "stdout",
     "output_type": "stream",
     "text": [
      "Distint values of col: inspection_score = 85\n"
     ]
    }
   ],
   "source": [
    "#Question 3/a\n",
    "col_distinct_counts = {}\n",
    "for header in headers:\n",
    "    res = print_distinct(header)\n",
    "    col_distinct_counts[header] = res\n"
   ]
  },
  {
   "cell_type": "code",
   "execution_count": 32,
   "metadata": {
    "collapsed": false
   },
   "outputs": [
    {
     "name": "stdout",
     "output_type": "stream",
     "text": [
      "Histogram of column:inspection_score\n"
     ]
    },
    {
     "data": {
      "image/png": "[encoded data removed]",
      "text/plain": [
       "<Figure size 1368x360 with 1 Axes>"
      ]
     },
     "metadata": {},
     "output_type": "display_data"
    }
   ],
   "source": [
    "#Utility functions to plot histogram\n",
    "class Histogram():\n",
    "\n",
    "    def show(self, col_name, color):\n",
    "        obj = self.countAggregateByKey(col_name)\n",
    "        self.plot(obj,color)\n",
    "    \n",
    "    def countAggregateByKey(self, col_name):\n",
    "        aggragateByKey = col_name.countByValue() \n",
    "        keys  = aggragateByKey.keys()\n",
    "        x_axis = np.array(sorted(keys))\n",
    "        y_axis = np.array([aggragateByKey.get(key) for key in x_axis])\n",
    "        return self.buildObj(x_axis,y_axis)\n",
    "    \n",
    "    def buildObj(self, x_axis,y_axis):\n",
    "        res = dict()\n",
    "        res['x'] = {\n",
    "            'pos': np.arange(len(x_axis)),\n",
    "            'x_axis':x_axis\n",
    "        }\n",
    "        res['y']={\n",
    "            'y_axis':y_axis\n",
    "        }\n",
    "        return res\n",
    "    \n",
    "    def plot(self, obj,color):\n",
    "        y_axis = obj['y']['y_axis']\n",
    "        pos = obj['x']['pos']\n",
    "        x_axis = obj['x']['x_axis']\n",
    "\n",
    "        ax = plt.axes()\n",
    "        ax.set_xticks(pos)\n",
    "        ax.set_xticklabels(x_axis)\n",
    "\n",
    "        plt.bar(pos, y_axis, 0.5, color=color)\n",
    "        plt.xticks(size=16)\n",
    "\n",
    "        fig = matplotlib.pyplot.gcf()\n",
    "        fig.set_size_inches(19, 5)\n",
    "        plt.show()\n",
    "\n",
    "#Question 3/b drawing histograms of the 5 columns\n",
    "# get all indexes for a specific col name\n",
    "# we normalize the \"inpection_score\" variable so that \n",
    "def filterColumnByHeader(filteredByColumn,col_names,key):\n",
    "    return filteredByColumn.map(lambda pair: pair[1][col_names.get_index_from_key(key)])\n",
    "\n",
    "histogram_colors = ['red', 'green', 'blue', 'yellow', 'magenta']\n",
    "i = 0\n",
    "h = Histogram()\n",
    "for header in headers:\n",
    "    data = filterColumnByHeader(filteredByColumn,fiveHeaders,header)#\n",
    "    print (\"Histogram of column:{}\".format(header))\n",
    "    h.show(data, histogram_colors[i])\n",
    "    i = i + 1\n"
   ]
  },
  {
   "cell_type": "code",
   "execution_count": null,
   "metadata": {},
   "outputs": [],
   "source": [
    "##############################################################################################\n",
    "#Will Do now all data Manipulations on inspection_score column \n",
    "##############################################################################################"
   ]
  },
  {
   "cell_type": "code",
   "execution_count": 12,
   "metadata": {
    "collapsed": false
   },
   "outputs": [
    {
     "name": "stdout",
     "output_type": "stream",
     "text": [
      "Non or empty values in col ,  inspection_score are : 0\n"
     ]
    }
   ],
   "source": [
    "\n",
    "# BAD Vauues\n",
    "for i in range(0, len(headers)):\n",
    "    NA_col = csv_data.filter(lambda x: x[0][i] == None)\n",
    "    print(\"Non or empty values in col , \", \"inspection_score are :\", NA_col.count())\n",
    "### No None values "
   ]
  },
  {
   "cell_type": "code",
   "execution_count": 19,
   "metadata": {},
   "outputs": [],
   "source": [
    "is_col=fiveHeaders.get_index_from_key(\"inspection_score\")\n",
    "rdd_inspection_score = filteredByColumn.map(lambda pair: pair[1][is_col])\n"
   ]
  },
  {
   "cell_type": "code",
   "execution_count": 20,
   "metadata": {
    "collapsed": true
   },
   "outputs": [
    {
     "name": "stdout",
     "output_type": "stream",
     "text": [
      "Mean is: 48592669003.806595\nStandard deviation is: 628299761361.48\n"
     ]
    }
   ],
   "source": [
    "mean = rdd_inspection_score.mean()\n",
    "std = rdd_inspection_score.stdev()\n",
    "print(\"Mean is:\", mean)\n",
    "print(\"Standard deviation is:\", std)\n"
   ]
  },
  {
   "cell_type": "code",
   "execution_count": 15,
   "metadata": {},
   "outputs": [
    {
     "name": "stdout",
     "output_type": "stream",
     "text": [
      "normalized Mean is: 1.185910330579189e-16\nnormalized Standard deviation is: 1.0000000000000002\n"
     ]
    }
   ],
   "source": [
    "# normalized :\n",
    "norm=filteredByColumn.map(lambda x:(x[1][is_col]-mean)/std)\n",
    "n_mean = norm.mean()\n",
    "n_std = norm.stdev()\n",
    "print(\"normalized Mean is:\", n_mean)\n",
    "print(\"normalized Standard deviation is:\", n_std)"
   ]
  },
  {
   "cell_type": "code",
   "execution_count": null,
   "metadata": {},
   "outputs": [],
   "source": []
  }
 ],
 "metadata": {
  "kernelspec": {
   "display_name": "Python 3",
   "language": "python",
   "name": "python3"
  },
  "language_info": {
   "codemirror_mode": {
    "name": "ipython",
    "version": 3
   },
   "file_extension": ".py",
   "mimetype": "text/x-python",
   "name": "python",
   "nbconvert_exporter": "python",
   "pygments_lexer": "ipython3",
   "version": "3.6.5"
  }
 },
 "nbformat": 4,
 "nbformat_minor": 1
}
