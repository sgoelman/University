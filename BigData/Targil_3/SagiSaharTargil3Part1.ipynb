{
 "cells": [
  {
   "cell_type": "code",
   "execution_count": 5,
   "metadata": {
    "collapsed": false,
    "pycharm": {
     "name": "#%%\n"
    }
   },
   "outputs": [],
   "source": [
    "from pyspark.sql.functions import *\n",
    "from pyspark.ml.clustering import KMeans\n",
    "from pyspark.ml.evaluation import ClusteringEvaluator\n",
    "from pyspark.ml.feature import StopWordsRemover\n",
    "from pyspark.ml.classification import LogisticRegression\n",
    "from pyspark.ml.classification import NaiveBayes\n",
    "from pyspark.ml.evaluation import MulticlassClassificationEvaluator, BinaryClassificationEvaluator\n",
    "from pyspark.ml.feature import HashingTF, IDF\n",
    "from pyspark.ml.feature import Tokenizer\n",
    "import pyspark.sql.functions as func"
   ]
  },
  {
   "cell_type": "code",
   "execution_count": 13,
   "metadata": {
    "collapsed": false,
    "pycharm": {
     "name": "#%%\n"
    }
   },
   "outputs": [],
   "source": [
    "data = spark.read.option(\"header\", \"true\"). \\\n",
    "    option(\"mode\", \"DROPMALFORMED\") \\\n",
    "    .csv(r\"C:\\Users\\sgoel\\PycharmProjects\\University\\BigData\\Targil_3\\Reviews_1400.csv\")\n"
   ]
  },
  {
   "cell_type": "code",
   "execution_count": 8,
   "metadata": {
    "collapsed": false,
    "pycharm": {
     "name": "#%%\n"
    }
   },
   "outputs": [
    {
     "name": "stdout",
     "output_type": "stream",
     "text": [
      "+-------+--------------------+\n|summary|             Summary|\n+-------+--------------------+\n|  count|                1378|\n|   mean|                null|\n| stddev|                null|\n|    min|\"\"\"Simply THE BES...|\n|    max|              yummy!|\n+-------+--------------------+\n\n"
     ]
    },
    {
     "name": "stdout",
     "output_type": "stream",
     "text": [
      "+-------+------------------+\n|summary|             Score|\n+-------+------------------+\n|  count|              1378|\n|   mean| 4.228592162554427|\n| stddev|1.2954850003757337|\n|    min|                 1|\n|    max|                 5|\n+-------+------------------+\n\nroot\n |-- Id: string (nullable = true)\n |-- ProductId: string (nullable = true)\n |-- UserId: string (nullable = true)\n |-- ProfileName: string (nullable = true)\n |-- HelpfulnessNumerator: string (nullable = true)\n |-- HelpfulnessDenominator: string (nullable = true)\n |-- Score: string (nullable = true)\n |-- Time: string (nullable = true)\n |-- Summary: string (nullable = true)\n |-- Text: string (nullable = true)\n\n"
     ]
    },
    {
     "data": {
      "text/plain": [
       "556089"
      ]
     },
     "execution_count": 8,
     "metadata": {},
     "output_type": "execute_result"
    }
   ],
   "source": [
    "# todo: delete\n",
    "data.describe('Summary')\\\n",
    "    .show()\n",
    "\n",
    "data.describe('Score')\\\n",
    "    .show()\n",
    "\n",
    "data.printSchema()\n",
    "\n",
    "data.count()\n"
   ]
  },
  {
   "cell_type": "code",
   "execution_count": 9,
   "metadata": {
    "collapsed": false,
    "pycharm": {
     "name": "#%%\n"
    }
   },
   "outputs": [
    {
     "data": {
      "text/plain": [
       "1378"
      ]
     },
     "execution_count": 9,
     "metadata": {},
     "output_type": "execute_result"
    }
   ],
   "source": [
    "data = data.select('Score', 'Summary')\\\n",
    "    .dropna()\n",
    "data.count()"
   ]
  },
  {
   "cell_type": "code",
   "execution_count": 10,
   "metadata": {
    "collapsed": false,
    "pycharm": {
     "name": "#%%\n"
    }
   },
   "outputs": [],
   "source": [
    "data = data.where(length(col('Summary')) >= 75)\n"
   ]
  },
  {
   "cell_type": "code",
   "execution_count": 11,
   "metadata": {
    "collapsed": false,
    "pycharm": {
     "name": "#%%\n"
    }
   },
   "outputs": [
    {
     "data": {
      "text/plain": [
       "6"
      ]
     },
     "execution_count": 11,
     "metadata": {},
     "output_type": "execute_result"
    }
   ],
   "source": [
    "# todo: delete\n",
    "data.count()\n"
   ]
  },
  {
   "cell_type": "code",
   "execution_count": 12,
   "metadata": {
    "collapsed": false,
    "pycharm": {
     "name": "#%%\n"
    }
   },
   "outputs": [],
   "source": [
    "def filterData(column):\n",
    "\n",
    "    return trim(lower(regexp_replace(column, '[^\\sa-zA-Z0-9]', ''))).alias('FilteredColumn')\n",
    "\n",
    "filteredData = data.select([filterData(data['Summary']), col(\"Score\").alias(\"label\")])\n",
    "\n",
    "# נבחר לעשות  שלילי וחיובי\n",
    "filteredData = filteredData.withColumn(\"label\", when(col(\"label\") > 80, 1.0).otherwise(0.0))\n",
    "\n"
   ]
  },
  {
   "cell_type": "code",
   "execution_count": null,
   "metadata": {},
   "outputs": [],
   "source": []
  }
 ],
 "metadata": {
  "kernelspec": {
   "display_name": "Python 2",
   "language": "python",
   "name": "python2"
  },
  "language_info": {
   "codemirror_mode": {
    "name": "ipython",
    "version": 2
   },
   "file_extension": ".py",
   "mimetype": "text/x-python",
   "name": "python",
   "nbconvert_exporter": "python",
   "pygments_lexer": "ipython2",
   "version": "2.7.6"
  },
  "pycharm": {
   "stem_cell": {
    "cell_type": "raw",
    "source": [],
    "metadata": {
     "collapsed": false
    }
   }
  }
 },
 "nbformat": 4,
 "nbformat_minor": 0
}
