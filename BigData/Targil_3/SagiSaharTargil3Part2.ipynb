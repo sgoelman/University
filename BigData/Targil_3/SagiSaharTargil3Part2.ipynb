{
 "cells": [
  {
   "cell_type": "code",
   "execution_count": null,
   "outputs": [],
   "source": [
    "from pyspark.sql.functions import *\n",
    "import string\n",
    "import string\n",
    "import nltk\n",
    "from nltk import pos_tag\n",
    "from nltk.corpus import stopwords\n",
    "from nltk.stem import WordNetLemmatizer \n",
    "from nltk.tokenize import word_tokenize\n",
    "from nltk.corpus import stopwords\n",
    "\n",
    "\n",
    "full_data = spark.read.option(\"header\", \"true\").option(\"mode\", \"DROPMALFORMED\").csv(\"winemag-data-130k-v2.csv\")\n",
    "full_data = full_data.select('points','description').dropna()"
   ],
   "metadata": {
    "collapsed": false,
    "pycharm": {
     "name": "#%%\n"
    }
   }
  },
  {
   "cell_type": "code",
   "execution_count": null,
   "outputs": [],
   "source": [
    "# return the wordnet object value corresponding to the POS tag\n",
    "from nltk.corpus import wordnet\n",
    "from pyspark.sql.functions import udf\n",
    "\n",
    "def splitForWordnet(tag):\n",
    "    \n",
    "    if tag.startswith('J'):\n",
    "        return wordnet.ADJ\n",
    "    elif tag.startswith('V'):\n",
    "        return wordnet.VERB\n",
    "    elif tag.startswith('N'):\n",
    "        return wordnet.NOUN\n",
    "    elif tag.startswith('R'):\n",
    "        return wordnet.ADV\n",
    "    else:\n",
    "        return wordnet.NOUN\n",
    "    \n",
    "\n",
    "\n",
    "lemma = WordNetLemmatizer()\n",
    "analyzer = SentimentIntensityAnalyzer() \n",
    "\n",
    "\n",
    "def cleanText(data):\n",
    "    tokens = word_tokenize(data)\n",
    "    tokens = [word.lower() for word in tokens]\n",
    "\n",
    "    punc = str.maketrans('', '', string.punctuation)\n",
    "    replaced = [word.translate(punc) for word in tokens]\n",
    "    all_stop_words = set(stopwords.words('english'))\n",
    "    data = [word for word in replaced if word not in all_stop_words]\n",
    "    \n",
    "\n",
    "    data = [t for t in data if len(t) > 0]\n",
    "    pos_tags = pos_tag(data)\n",
    "    data = [lemma.lemmatize(t[0], splitForWordnet(t[1])) for t in pos_tags]\n",
    "    data = [t for t in data if len(t) > 1]\n",
    "\n",
    "\n",
    "    return data\n",
    "\n",
    "def vader(data):\n",
    "    data = \" \".join(data)\n",
    "    score =  analyzer.polarity_scores(data)\n",
    "    return score['compound']\n",
    "\n",
    "clean_udf = udf(cleanText())\n",
    "vader_udf = udf(vader)\n",
    "\n",
    "data = full_data.withColumn(\"review\", clean_udf(col(\"description\")))\n",
    "data = data.withColumn(\"customer_review_score\", vader_udf(col(\"review\")))\n",
    "data = data.withColumn(\"label\", when(col(\"description\")>80, 1.0).otherwise(0.0))\n",
    "data = data.select([\"description\",\"label\",\"customer_review_score\"])\n",
    "\n",
    "positiveScore = data.filter((col(\"customer_review_score\") >= 0.75))\n",
    "negetiveScore = data.filter((col(\"customer_review_score\") <= -0.75))        \n",
    "irony = data.filter((col(\"customer_review_score\") <= -0.75) & (col(\"label\") == 1))    \n",
    "\n",
    "\n"
   ],
   "metadata": {
    "collapsed": false,
    "pycharm": {
     "name": "#%%\n"
    }
   }
  },
  {
   "cell_type": "code",
   "execution_count": null,
   "outputs": [],
   "source": [
    "\n",
    "irony = irony.rdd\n",
    "irony.collect()\n",
    "\n",
    "negetiveScore = negetiveScore.rdd\n",
    "negetiveScore.collect()\n",
    "\n",
    "positiveScore = positiveScore.rdd\n",
    "positiveScore.collect()"
   ],
   "metadata": {
    "collapsed": false,
    "pycharm": {
     "name": "#%%\n"
    }
   }
  },
  {
   "cell_type": "code",
   "execution_count": null,
   "outputs": [],
   "source": [],
   "metadata": {
    "collapsed": false,
    "pycharm": {
     "name": "#%%\n"
    }
   }
  },
  {
   "cell_type": "code",
   "execution_count": null,
   "outputs": [],
   "source": [],
   "metadata": {
    "collapsed": false,
    "pycharm": {
     "name": "#%%\n"
    }
   }
  },
  {
   "cell_type": "code",
   "execution_count": null,
   "outputs": [],
   "source": [],
   "metadata": {
    "collapsed": false,
    "pycharm": {
     "name": "#%%\n"
    }
   }
  }
 ],
 "metadata": {
  "language_info": {
   "codemirror_mode": {
    "name": "ipython",
    "version": 2
   },
   "file_extension": ".py",
   "mimetype": "text/x-python",
   "name": "python",
   "nbconvert_exporter": "python",
   "pygments_lexer": "ipython2",
   "version": "2.7.6"
  },
  "kernelspec": {
   "name": "python3",
   "language": "python",
   "display_name": "Python 3"
  },
  "pycharm": {
   "stem_cell": {
    "cell_type": "raw",
    "source": [],
    "metadata": {
     "collapsed": false
    }
   }
  }
 },
 "nbformat": 4,
 "nbformat_minor": 0
}