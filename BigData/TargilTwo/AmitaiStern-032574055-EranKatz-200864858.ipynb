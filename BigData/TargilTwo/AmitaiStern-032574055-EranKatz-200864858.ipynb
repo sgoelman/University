{
 "cells": [
  {
   "cell_type": "markdown",
   "metadata": {},
   "source": [
    "# Association by Rule implementation project in Big Data analysis course\n",
    "## Amitai Stern and Eran Katz"
   ]
  },
  {
   "cell_type": "code",
   "execution_count": 1,
   "metadata": {},
   "outputs": [
    {
     "data": {
      "text/html": [
       "\n",
       "        <div>\n",
       "            <p><b>SparkContext</b></p>\n",
       "\n",
       "            <p><a href=\"http://DESKTOP-OCHVAKQ:4041\">Spark UI</a></p>\n",
       "\n",
       "            <dl>\n",
       "              <dt>Version</dt>\n",
       "                <dd><code>v2.3.3</code></dd>\n",
       "              <dt>Master</dt>\n",
       "                <dd><code>local[*]</code></dd>\n",
       "              <dt>AppName</dt>\n",
       "                <dd><code>PySparkShell</code></dd>\n",
       "            </dl>\n",
       "        </div>\n",
       "        "
      ],
      "text/plain": [
       "\n",
       "        <div>\n",
       "            <p><b>SparkContext</b></p>\n",
       "\n",
       "            <p><a href=\"http://DESKTOP-OCHVAKQ:4041\">Spark UI</a></p>\n",
       "\n",
       "            <dl>\n",
       "              <dt>Version</dt>\n",
       "                <dd><code>v2.3.3</code></dd>\n",
       "              <dt>Master</dt>\n",
       "                <dd><code>local[*]</code></dd>\n",
       "              <dt>AppName</dt>\n",
       "                <dd><code>PySparkShell</code></dd>\n",
       "            </dl>\n",
       "        </div>\n",
       "        "
      ]
     },
     "execution_count": 1,
     "metadata": {},
     "output_type": "execute_result"
    }
   ],
   "source": [
    "sc"
   ]
  },
  {
   "cell_type": "code",
   "execution_count": 2,
   "metadata": {},
   "outputs": [
    {
     "name": "stdout",
     "output_type": "stream",
     "text": [
      "Populating the interactive namespace from numpy and matplotlib\n"
     ]
    }
   ],
   "source": [
    "%pylab inline"
   ]
  },
  {
   "cell_type": "markdown",
   "metadata": {},
   "source": [
    "# get dataset:"
   ]
  },
  {
   "cell_type": "code",
   "execution_count": 3,
   "metadata": {
    "scrolled": true
   },
   "outputs": [],
   "source": [
    "PATH = \"/home/spark-vm/dataSets/\"\n",
    "user_searches_rdd = sc.textFile(\"%suser-ct-test-collection-01.txt\" % PATH)"
   ]
  },
  {
   "cell_type": "code",
   "execution_count": 4,
   "metadata": {},
   "outputs": [],
   "source": [
    "#split by tab\n",
    "user_searches_rdd = user_searches_rdd.map( lambda line: line.split('\\t'))\n",
    "#remove header\n",
    "header = user_searches_rdd.first()\n",
    "user_searches_rdd = user_searches_rdd.filter( lambda line: line != header)"
   ]
  },
  {
   "cell_type": "markdown",
   "metadata": {},
   "source": [
    "## remove unwanted columns:"
   ]
  },
  {
   "cell_type": "code",
   "execution_count": 5,
   "metadata": {},
   "outputs": [],
   "source": [
    "#remove all but first two elements from each row - remain with AnonID and Query in each row\n",
    "user_query_rdd = user_searches_rdd.map( lambda line: (line[0],line[1]))"
   ]
  },
  {
   "cell_type": "code",
   "execution_count": 6,
   "metadata": {},
   "outputs": [
    {
     "data": {
      "text/plain": [
       "(7, 7)"
      ]
     },
     "execution_count": 6,
     "metadata": {},
     "output_type": "execute_result"
    }
   ],
   "source": [
    "#same number of partitions\n",
    "user_searches_rdd.getNumPartitions(), user_query_rdd.getNumPartitions()"
   ]
  },
  {
   "cell_type": "markdown",
   "metadata": {},
   "source": [
    "# create inverted index: userId - list[ (q1,1), (q2, 1) , ... , (qn, 1)]\n",
    "## Also:\n",
    "## -remove url elements from queries\n",
    "## -trim the queries \n",
    "## -sort the resulting list and remove duplicates\n",
    "## -filter out empty lists"
   ]
  },
  {
   "cell_type": "code",
   "execution_count": 7,
   "metadata": {},
   "outputs": [],
   "source": [
    "# more efficient than reduce by key with the lambda function ( lambda x,y: x+y) \n",
    "# extend() doesn't copy the list every time, so it is not n^2 in complexity to length of the list...\n",
    "def addToList(x,y):\n",
    "    x.extend(y)\n",
    "    return x\n",
    "\n",
    "def pairKV(lst): #all terms are preprocessed for reduce by key --> (term, 1)\n",
    "    newLst = list()\n",
    "    for item in lst:\n",
    "        item = tuple((item, 1))\n",
    "        newLst.append(item)\n",
    "    return newLst\n",
    "\n",
    "def preprocess(lst):\n",
    "    newLst = list()\n",
    "    for item in lst:\n",
    "        item = item.strip()\n",
    "        item = item.replace('www.','')\n",
    "        item = item.replace('.com','')\n",
    "        item = item.replace('.html','')\n",
    "        if len(item) > 1:\n",
    "            newLst.append(item)\n",
    "    return newLst\n",
    "    \n",
    "\n",
    "user_query_invertedIndex = user_query_rdd.map( lambda x: (x[0], [x[1]]))\\\n",
    "                                         .reduceByKey( lambda x,y: addToList(x,y))\\\n",
    "                                         .map( lambda kv: (kv[0],sorted(set(preprocess(kv[1])))))\\\n",
    "                                         .filter( lambda kv: len(kv[1])>0)\\\n",
    "                                         .map( lambda kv: (kv[0],pairKV(kv[1]))) #make each query: (query,1)\n",
    "\n",
    "\n",
    "# used set() on each list instead of distinct() on all of the rdd to avoid a massive shuffle\n",
    "# result:\n",
    "# inverted index from user to list of sorted distinct queries, and list of all pair sets (sorted too): \n",
    "# example -((u'5562375',[(u\"barrett's esophogus\", 1),(u'chase.com', 1),(u'e coli', 1), ... , (u'zillow', 1)]"
   ]
  },
  {
   "cell_type": "markdown",
   "metadata": {},
   "source": [
    "# calculate minsup according to \n",
    "#### http://data-mining.philippe-fournier-viger.com/how-to-auto-adjust-the-minimum-support-threshold-according-to-the-data-size/\n",
    "\n",
    "## minsup(65516)=e^(-0.00004*65516 -10) + 0.0001 =~ 0.0001\n",
    "## which means that any term with less than 6 occurences is bellow the minsup"
   ]
  },
  {
   "cell_type": "code",
   "execution_count": 8,
   "metadata": {},
   "outputs": [],
   "source": [
    "num_transactions = user_query_invertedIndex.count()"
   ]
  },
  {
   "cell_type": "code",
   "execution_count": 9,
   "metadata": {},
   "outputs": [
    {
     "name": "stdout",
     "output_type": "stream",
     "text": [
      "minsup is: 0.000103, relative minsup is: 6.000000\n"
     ]
    }
   ],
   "source": [
    "import math\n",
    "minsup = exp(-0.00004*num_transactions -10) + 0.0001\n",
    "r_minsup = floor(num_transactions*minsup)\n",
    "print \"minsup is: %f, relative minsup is: %f\" %(minsup, r_minsup)"
   ]
  },
  {
   "cell_type": "markdown",
   "metadata": {},
   "source": [
    "# Count occurences of each query in the dataset, and remove queries with support smaller than minsupport"
   ]
  },
  {
   "cell_type": "code",
   "execution_count": 10,
   "metadata": {},
   "outputs": [],
   "source": [
    "#count occurences of each term\n",
    "term_occurences_RDD = user_query_invertedIndex.flatMap( lambda row: row[1])\\\n",
    "                                                .reduceByKey( lambda x,y: x+y)\\\n",
    "                                                .filter( lambda term: term[1] >= r_minsup and len(term[0])>2)\n",
    "#(u'sec 8 apt for rent baltimore md', 1),\n",
    "#(u'new york hurricane', 1),\n",
    "#(u'free stephani wells sex clip', 1),\n",
    "#(u'hennings', 1),\n",
    "#(u'canes', 5),\n",
    "#(u'ricediet.com', 1),\n",
    "#(u'little my maid pc game', 1)"
   ]
  },
  {
   "cell_type": "markdown",
   "metadata": {},
   "source": [
    "# Create list of pairs from the user-queries, and reduce by key\n",
    "## creating the list from the users queries prevents looking for rules of  a pair that doesn't exist in the dataset."
   ]
  },
  {
   "cell_type": "code",
   "execution_count": 11,
   "metadata": {},
   "outputs": [],
   "source": [
    "def allPairsList(lst):#all distinct pairs possible from list of terms (as sets) and prepared for reduce by key\n",
    "    newLst = list()\n",
    "    for i in range(0,len(lst)):\n",
    "        for j in range(i+1, len(lst)):\n",
    "                item = tuple((lst[i] + '\\t' + lst[j], 1)) # \\t as delimiter between queries\n",
    "                newLst.append(item)\n",
    "    return newLst\n",
    "\n",
    "def removeNumOccur(lst): # get rid of the comma '1' after each query\n",
    "    newLst = list()\n",
    "    for item in lst:\n",
    "        newLst.append(item[0])\n",
    "    return newLst\n",
    "\n",
    "pair_occurences_RDD = user_query_invertedIndex.map( lambda kv: (kv[0], removeNumOccur(kv[1])))\\\n",
    "                                              .filter( lambda kv: len(kv[1]) > 1)\\\n",
    "                                              .map( lambda kv: (allPairsList(kv[1])))\\\n",
    "                                              .flatMap( lambda row: row)\\\n",
    "                                              .reduceByKey( lambda x,y: x+y)\\\n",
    "                                              .filter( lambda pair: int(pair[1]) > 1)\n",
    "#this is the bottle neck, big shuffle..."
   ]
  },
  {
   "cell_type": "code",
   "execution_count": 12,
   "metadata": {},
   "outputs": [],
   "source": [
    "# we now have two rdd's one with (query, # of occurrences) the other - (query1\\tquery2, # of occurrences)\n",
    "# Next we shall create tuples (X, Y, supp(XUY), supp(X)) for every possible pair:\n",
    "# split pair list: (query1\\tquery2, # of occurrences) --> (query1, query2, # of occurrences)"
   ]
  },
  {
   "cell_type": "code",
   "execution_count": 13,
   "metadata": {},
   "outputs": [],
   "source": [
    "# for each pair (q1, q2, # q1Uq2) add (q2, q1, # q1Uq2) to the RDD:\n",
    "pair_occurences_RDD = pair_occurences_RDD.map( lambda kv: (kv[0].split('\\t')[0], kv[0].split('\\t')[1], kv[1]))\\\n",
    "                                         .map( lambda arr: (((arr[0], (arr[1],arr[2]))), (arr[1], (arr[0],arr[2]))))\\\n",
    "                                         .flatMap( lambda ab: ab)"
   ]
  },
  {
   "cell_type": "markdown",
   "metadata": {},
   "source": [
    "# Join the two RDDs anf filter out value containing None"
   ]
  },
  {
   "cell_type": "code",
   "execution_count": 14,
   "metadata": {},
   "outputs": [],
   "source": [
    "# left join the term_occurences_RDD on to this RDD, according to the first term:\n",
    "pair_term_supp_RDD = pair_occurences_RDD.join(term_occurences_RDD)"
   ]
  },
  {
   "cell_type": "code",
   "execution_count": 15,
   "metadata": {},
   "outputs": [],
   "source": [
    "#filter out None values:\n",
    "pair_term_supp_RDD = pair_term_supp_RDD.filter( lambda x: x[1][0])"
   ]
  },
  {
   "cell_type": "markdown",
   "metadata": {},
   "source": [
    "# For each line calculate th confidence, resulting in: \n",
    "# X | Y | Confidence of rule: X-->Y | # of pairs XUY in dataset"
   ]
  },
  {
   "cell_type": "code",
   "execution_count": 16,
   "metadata": {},
   "outputs": [],
   "source": [
    "def intoTup(t): #into a four value tuple\n",
    "    key = t[0]\n",
    "    value = t[1]\n",
    "    lst = list()\n",
    "    lst.append(key)\n",
    "    lst.extend(list(value[0]))\n",
    "    lst.append(value[1])\n",
    "    res = tuple(lst)\n",
    "    return res\n",
    "    \n",
    "def calcConf(line):\n",
    "    conf = line[2] / float(line[3])\n",
    "    lst = list(line)\n",
    "    numPairs = line[2]\n",
    "    lst = lst[:2]\n",
    "    lst.append(conf)\n",
    "    lst.append(numPairs)\n",
    "    res = tuple(lst)\n",
    "    return res\n"
   ]
  },
  {
   "cell_type": "code",
   "execution_count": 17,
   "metadata": {},
   "outputs": [],
   "source": [
    "conf_RDD = pair_term_supp_RDD.map(lambda line: intoTup(line))\\\n",
    "                             .map(lambda line: calcConf(line))\\\n",
    "                             .filter( lambda rule: float(rule[2])>0.3) # lowest confidence to be considered"
   ]
  },
  {
   "cell_type": "markdown",
   "metadata": {},
   "source": [
    "# Pickling the RDD:"
   ]
  },
  {
   "cell_type": "code",
   "execution_count": 18,
   "metadata": {},
   "outputs": [],
   "source": [
    "conf_RDD.saveAsPickleFile('assoc_rules_pkl')"
   ]
  },
  {
   "cell_type": "markdown",
   "metadata": {},
   "source": [
    "## Or: save the resulting RDD as a csv file by removing the following lines out of comment"
   ]
  },
  {
   "cell_type": "code",
   "execution_count": 18,
   "metadata": {},
   "outputs": [],
   "source": [
    "# save RDD result:\n",
    "#def toCSVLine(data):\n",
    "#  return ','.join(str(d).encode('utf-8') for d in data)\n",
    "\n",
    "#lines = conf_RDD.map(toCSVLine)\n",
    "#lines.saveAsTextFile('result_assoc_rules.txt')"
   ]
  },
  {
   "cell_type": "markdown",
   "metadata": {},
   "source": [
    "# ------------------------------------------------"
   ]
  },
  {
   "cell_type": "markdown",
   "metadata": {},
   "source": [
    "# Analysing the results:"
   ]
  },
  {
   "cell_type": "code",
   "execution_count": 19,
   "metadata": {},
   "outputs": [
    {
     "data": {
      "text/plain": [
       "[u'yahoo', u'mapquest', u'ebay', u'myspace', u'google']"
      ]
     },
     "execution_count": 19,
     "metadata": {},
     "output_type": "execute_result"
    }
   ],
   "source": [
    "# for interesting results it is prefferable to ignore pairs containing term like google - most chances are that \n",
    "# any serch term appears every time in a transaction with google or yahoo... \n",
    "# given a term x, x-->'google' would probably be higher than 0.6 \n",
    "most_common_terms_lst = term_occurences_RDD.filter( lambda x: int(x[1]) >= 3500).map( lambda x: x[0]).collect()\n",
    "most_common_terms_lst"
   ]
  },
  {
   "cell_type": "markdown",
   "metadata": {},
   "source": [
    "# filter results where 'Y' is from most_common_terms_lst"
   ]
  },
  {
   "cell_type": "code",
   "execution_count": 20,
   "metadata": {},
   "outputs": [],
   "source": [
    "conf_RDD_analyse = conf_RDD.filter( lambda x: x[1] not in most_common_terms_lst)"
   ]
  },
  {
   "cell_type": "code",
   "execution_count": 21,
   "metadata": {},
   "outputs": [],
   "source": [
    "#create data frame\n",
    "from pyspark.sql.types import *\n",
    "fields = [StructField(\"X\", StringType(), True),\\\n",
    "          StructField(\"Y\", StringType(), True),\\\n",
    "          StructField(\"Confidence\", StringType(), True),\\\n",
    "          StructField(\"Amount of Pairs\", StringType(), True)]\n",
    "schema = StructType(fields)\n",
    "AssociationRule_res_df = spark.createDataFrame(conf_RDD_analyse, schema)"
   ]
  },
  {
   "cell_type": "markdown",
   "metadata": {},
   "source": [
    "# 4b. Look for 3 interesting relations found in the date set"
   ]
  },
  {
   "cell_type": "code",
   "execution_count": 22,
   "metadata": {},
   "outputs": [
    {
     "name": "stdout",
     "output_type": "stream",
     "text": [
      "+--------------------+--------------------+------------------+---------------+\n",
      "|                   X|                   Y|        Confidence|Amount of Pairs|\n",
      "+--------------------+--------------------+------------------+---------------+\n",
      "|     browsersettings|    browser settings|0.9166666666666666|             11|\n",
      "|              imhelp|             im help|0.8888888888888888|              8|\n",
      "|          imsettings|         im settings|0.8888888888888888|              8|\n",
      "|                 poo|                pogo|0.8888888888888888|              8|\n",
      "|              hotmal|             hotmail|             0.875|              7|\n",
      "|             any who|              anywho|             0.875|              7|\n",
      "|             viewpix|              vzwpix|             0.875|              7|\n",
      "|         localhookup|        localhookupz|             0.875|              7|\n",
      "|                ikia|                ikea|             0.875|              7|\n",
      "| accountcenteronline|accountcentralonline|0.8571428571428571|              6|\n",
      "|       disny channel|      disney channel|0.8571428571428571|              6|\n",
      "|           my space.|            my space|0.8571428571428571|              6|\n",
      "|           ask jeevs|          ask jeeves|0.8571428571428571|              6|\n",
      "|             my spac|            my space|0.8571428571428571|              6|\n",
      "|             my pace|            my space|0.8571428571428571|              6|\n",
      "|     sinus infection|             walmart|0.8571428571428571|              6|\n",
      "|        fidelity com|            fidelity|0.8333333333333334|              5|\n",
      "|         prettyricky|        pretty ricky|0.8333333333333334|              5|\n",
      "|        susan miller|       evo.qksrv.net|0.8333333333333334|              5|\n",
      "|           dial idol|       american idol|0.8333333333333334|              5|\n",
      "|      royal caribean|     royal caribbean|0.8333333333333334|              5|\n",
      "|            runecape|           runescape|0.8333333333333334|              5|\n",
      "|           dicionary|          dictionary|0.8333333333333334|              5|\n",
      "|           cragslist|          craigslist|0.8333333333333334|              5|\n",
      "|           bet music|                 bet|0.8333333333333334|              5|\n",
      "|              kholes|               kohls|0.8333333333333334|              5|\n",
      "|         craigslists|          craigslist|0.8333333333333334|              5|\n",
      "|          calculater|          calculator|0.8333333333333334|              5|\n",
      "|          web unlock|           webunlock|0.8333333333333334|             15|\n",
      "|                 89.|                  89|0.8333333333333334|              5|\n",
      "|      carttonnetwork|      cartoonnetwork|0.8333333333333334|              5|\n",
      "|get out of debt p...| getoutofdebtplanner|0.8333333333333334|              5|\n",
      "|  craigs list boston|         craigs list|0.8333333333333334|              5|\n",
      "|      portal.lolhost|     undeground-love|0.7777777777777778|              7|\n",
      "|    aol screen names|        screen names|0.7777777777777778|              7|\n",
      "|         dellrebates|                dell|0.7777777777777778|              7|\n",
      "|          letssingit|    mycl.cravelyrics|0.7692307692307693|             10|\n",
      "|  american idol tour|       american idol|0.7647058823529411|             13|\n",
      "|        elliot yamin|       american idol|              0.75|              6|\n",
      "|          ads.uproar|              uproar|              0.75|              6|\n",
      "|    runescape cheats|           runescape|              0.75|              9|\n",
      "|    verizon billview|             verizon|              0.75|              9|\n",
      "|            fasa.gov|           fafsa.gov|              0.75|             12|\n",
      "|  bedbath and beyond| bed bath and beyond|              0.75|              6|\n",
      "|      craigslist nyc|          craigslist|              0.75|              6|\n",
      "|         citibankcom|            citibank|              0.75|              6|\n",
      "|            hhotmail|             hotmail|              0.75|              6|\n",
      "|       bamkofamerica|       bankofamerica|              0.75|              9|\n",
      "|         porn videos|                porn|              0.75|              6|\n",
      "|             wachova|            wachovia|              0.75|              6|\n",
      "|    expressions help|     expressionshelp|              0.75|              6|\n",
      "|           mao quest|           map quest|              0.75|              6|\n",
      "|myspace music videos|     myspace layouts|              0.75|              6|\n",
      "|  cis.ohio-state.edu|                mime|0.7333333333333333|             11|\n",
      "|                 pog|                pogo|0.7333333333333333|             11|\n",
      "|disney channel hi...|      disney channel|0.7272727272727273|              8|\n",
      "|            realator|             realtor|0.7272727272727273|              8|\n",
      "|        ankofamerica|       bankofamerica|0.7142857142857143|              5|\n",
      "|        bankfamerica|       bankofamerica|0.7142857142857143|              5|\n",
      "|        yahoomailcom|           yahoomail|0.7142857142857143|              5|\n",
      "|                pogp|                pogo|0.7142857142857143|              5|\n",
      "|        bankofamerca|       bankofamerica|0.7142857142857143|             10|\n",
      "|        runescapecom|           runescape|0.7142857142857143|              5|\n",
      "| north west airlines|  northwest airlines|0.7142857142857143|              5|\n",
      "|        aol playlist|            playlist|0.7142857142857143|              5|\n",
      "|              expdia|             expedia|0.7142857142857143|              5|\n",
      "|               utube|             youtube|0.7142857142857143|             10|\n",
      "|        circiut city|        circuit city|0.7142857142857143|              5|\n",
      "|            map ques|           map quest|0.7142857142857143|              5|\n",
      "|        runescape.om|           runescape|0.7142857142857143|              5|\n",
      "|                 ogo|                pogo|0.7142857142857143|              5|\n",
      "|       cartonnetwork|      cartoonnetwork|0.7142857142857143|              5|\n",
      "|             htomail|             hotmail|0.7142857142857143|              5|\n",
      "|             pogo.om|                pogo|               0.7|              7|\n",
      "|             pogo.cm|                pogo|               0.7|              7|\n",
      "|           ww.sconex|              sconex|               0.7|              7|\n",
      "| layouts for myspace|     myspace layouts|               0.7|              7|\n",
      "|            realitor|             realtor|               0.7|              7|\n",
      "|            nick kca|                nick|0.6956521739130435|             16|\n",
      "|      bad day lyrics|    mycl.cravelyrics|            0.6875|             11|\n",
      "|              amozon|              amazon|            0.6875|             11|\n",
      "|disney channel mo...|      disney channel|0.6666666666666666|              4|\n",
      "|        globus tours|             weather|0.6666666666666666|              4|\n",
      "|       southwesthttp|           southwest|0.6666666666666666|              4|\n",
      "|                nbc.|                 nbc|0.6666666666666666|              4|\n",
      "|    matisyahu lyrics|           matisyahu|0.6666666666666666|              4|\n",
      "|             ja rule|             50 cent|0.6666666666666666|              4|\n",
      "|       my yahoo mail|          yahoo mail|0.6666666666666666|              4|\n",
      "|               53com|                  53|0.6666666666666666|              4|\n",
      "|   arizona cardinals|        phoenix suns|0.6666666666666666|              4|\n",
      "| fidelitynetbenefits|            fidelity|0.6666666666666666|              4|\n",
      "|      disney channle|      disney channel|0.6666666666666666|             16|\n",
      "|carl.sfo.int.trav...|         travelocity|0.6666666666666666|              4|\n",
      "|        p c richards|          pcrichards|0.6666666666666666|              4|\n",
      "|         runescape 2|           runescape|0.6666666666666666|              4|\n",
      "|          blackplant|            limewire|0.6666666666666666|              4|\n",
      "|          aeropastle|         aeropostale|0.6666666666666666|              4|\n",
      "|        ameican idol|       american idol|0.6666666666666666|              4|\n",
      "|    passover recipes|   ads.admonitor.net|0.6666666666666666|              4|\n",
      "|           nextelcom|              nextel|0.6666666666666666|              4|\n",
      "|    undress.first-lo|      portal.lolhost|0.6666666666666666|              4|\n",
      "|       free limewire|            limewire|0.6666666666666666|              6|\n",
      "|              uranus|             jupiter|0.6666666666666666|              4|\n",
      "|    adult fanfiction|adultfan.nexcess.net|0.6666666666666666|              4|\n",
      "|               hawii|              hawaii|0.6666666666666666|              4|\n",
      "|          sconex com|              sconex|0.6666666666666666|              4|\n",
      "|     pop up controls|            internet|0.6666666666666666|              4|\n",
      "|              indeed|             monster|0.6666666666666666|              6|\n",
      "|          top100lola|     undeground-love|0.6666666666666666|              4|\n",
      "|            pogoclub|                pogo|0.6666666666666666|              4|\n",
      "|           us airway|         travelocity|0.6666666666666666|              4|\n",
      "|          nickeloden|              disney|0.6666666666666666|              4|\n",
      "|       terrysvillage|              target|0.6666666666666666|              4|\n",
      "|        babesmachine|             nude.hu|0.6666666666666666|              4|\n",
      "|               paypa|              paypal|0.6666666666666666|              4|\n",
      "|    undress.first-lo|    dorki.ya-hoo.biz|0.6666666666666666|              4|\n",
      "|          pete wentz|        fall out boy|0.6666666666666666|              4|\n",
      "|              uranus|               pluto|0.6666666666666666|              4|\n",
      "|             wsconex|              sconex|0.6666666666666666|              4|\n",
      "|                 b2k|             bow wow|0.6666666666666666|              4|\n",
      "|new york new york...|           las vegas|0.6666666666666666|              4|\n",
      "|             dillard|               sears|0.6666666666666666|              4|\n",
      "|raymour and flann...|raymour and flanigan|0.6666666666666666|              4|\n",
      "|       ww.flalottery|          flalottery|0.6666666666666666|              4|\n",
      "|           methodone|           methadone|0.6666666666666666|              4|\n",
      "|      royal caribean|     royal carribean|0.6666666666666666|              4|\n",
      "|       bellsouth pay|           bellsouth|0.6666666666666666|             10|\n",
      "|daniel powter lyrics|    mycl.cravelyrics|0.6666666666666666|              4|\n",
      "|         realtor com|             realtor|0.6666666666666666|              6|\n",
      "|            wwe shop|                 wwe|0.6666666666666666|              4|\n",
      "|              pennys|               sears|0.6666666666666666|              6|\n",
      "|  plus size lingerie|          audradella|0.6666666666666666|              4|\n",
      "|              mate 1|               mate1|0.6666666666666666|              6|\n",
      "|  the little rascals|                http|0.6666666666666666|              4|\n",
      "|child protective ...|                http|0.6666666666666666|              4|\n",
      "|          girliezone|     undeground-love|0.6666666666666666|              4|\n",
      "|      carrer builder|      career builder|0.6666666666666666|              4|\n",
      "|      catoon network|     cartoon network|0.6666666666666666|              4|\n",
      "|          funny shit|                maps|0.6666666666666666|              4|\n",
      "|      catoon network|      cartoonnetwork|0.6666666666666666|              4|\n",
      "|         rociodurcal|            internet|0.6666666666666666|              4|\n",
      "|internalrevenuese...|             irs.gov|0.6666666666666666|              4|\n",
      "|  myspace backrounds| myspace backgrounds|0.6666666666666666|              8|\n",
      "|         freelayouts|            my space|0.6666666666666666|              4|\n",
      "|     tattoo pictures|              tattoo|0.6666666666666666|              6|\n",
      "|       5 card slingo|              slingo|0.6666666666666666|              4|\n",
      "|          nickeloden|         nickelodeon|0.6666666666666666|              4|\n",
      "|     tattoo pictures|             tattoos|0.6666666666666666|              6|\n",
      "|              levits|              levitz|0.6666666666666666|              4|\n",
      "|       bancofamerica|       bankofamerica|0.6666666666666666|              4|\n",
      "|      sears hardware|               sears|0.6666666666666666|              4|\n",
      "|           hotmail.c|             hotmail|0.6666666666666666|              4|\n",
      "|ocws-d01.vspblue.aol|ocws-m02.vspblue.aol|0.6666666666666666|              6|\n",
      "| myspace comment box|    mycl.cravelyrics|0.6666666666666666|              4|\n",
      "|    honda motorcycle|              yamaha|0.6666666666666666|              4|\n",
      "| myspace comment box|         photobucket|0.6666666666666666|              4|\n",
      "|               isuzu|               honda|0.6666666666666666|              4|\n",
      "|        bnkofamerica|       bankofamerica|0.6666666666666666|              6|\n",
      "|             vzw.pix|              vzwpix|0.6666666666666666|              4|\n",
      "|                ears|               sears|0.6666666666666666|              6|\n",
      "|     aes.success.org|      aessuccess.org|0.6666666666666666|              4|\n",
      "|             ballard|              target|0.6666666666666666|              4|\n",
      "|          top100lola|    dorki.ya-hoo.biz|0.6666666666666666|              4|\n",
      "|            soutwest|           southwest|0.6666666666666666|              4|\n",
      "|    sears mastercard|               sears|0.6666666666666666|              4|\n",
      "|   internet settings|            internet|0.6666666666666666|              4|\n",
      "|               costo|              costco|0.6666666666666666|              4|\n",
      "|             cherish|               ciara|0.6666666666666666|              4|\n",
      "|     destiny's child|               ciara|0.6666666666666666|              6|\n",
      "|        cowboylyrics|             walmart|0.6666666666666666|              4|\n",
      "|       pbs kids .org|      disney channel|0.6666666666666666|              4|\n",
      "|           map blast|           map quest|0.6666666666666666|              4|\n",
      "|      kellysbluebook|       kellybluebook|0.6666666666666666|              4|\n",
      "|  the picture people|             walmart|0.6666666666666666|              4|\n",
      "|           quizzilla|            quizilla|0.6666666666666666|              6|\n",
      "|             men4now|           adam4adam|0.6666666666666666|              4|\n",
      "|  holiday inn select|         white pages|0.6666666666666666|              4|\n",
      "|              ww.ask|                 ask|0.6666666666666666|              6|\n",
      "|           cheatcode|          cheatcodes|0.6666666666666666|              4|\n",
      "|            hot mail|             hotmail|0.6551724137931034|             19|\n",
      "+--------------------+--------------------+------------------+---------------+\n",
      "\n"
     ]
    }
   ],
   "source": [
    "AssociationRule_res_df.filter(\"Confidence > 0.6\").orderBy(\"Confidence\",ascending=False).show(500)"
   ]
  },
  {
   "cell_type": "code",
   "execution_count": 23,
   "metadata": {},
   "outputs": [
    {
     "name": "stdout",
     "output_type": "stream",
     "text": [
      "+------------------+-------------+------------------+---------------+\n",
      "|                 X|            Y|        Confidence|Amount of Pairs|\n",
      "+------------------+-------------+------------------+---------------+\n",
      "|         dial idol|american idol|0.8333333333333334|              5|\n",
      "|american idol tour|american idol|0.7647058823529411|             13|\n",
      "|      elliot yamin|american idol|              0.75|              6|\n",
      "|      ameican idol|american idol|0.6666666666666666|              4|\n",
      "+------------------+-------------+------------------+---------------+\n",
      "\n"
     ]
    }
   ],
   "source": [
    "AssociationRule_res_df.filter(\"Confidence > 0.6\").filter(\"Y == 'american idol'\").orderBy(\"Confidence\",ascending=False).show(10)"
   ]
  },
  {
   "cell_type": "markdown",
   "metadata": {},
   "source": [
    "# +------------------+------------------+------------------+---------------------+\n",
    "# |                 X     |            Y          |    Confidence|Amount of Pairs|\n",
    "# +------------------+------------------+------------------+---------------------+\n",
    "# |     elliot yamin|american idol|              0.75    |                          6|\n",
    "\n",
    "\n",
    "### Efraym Elliott Yamin (born July 20, 1978) is an American singer known for his  hit single \"Wait for You\" and      placing third on the fifth season of American Idol.\n",
    "\n",
    "## https://en.wikipedia.org/wiki/Elliott_Yamin"
   ]
  },
  {
   "cell_type": "code",
   "execution_count": 24,
   "metadata": {},
   "outputs": [
    {
     "name": "stdout",
     "output_type": "stream",
     "text": [
      "+-----+-----+------------------+---------------+\n",
      "|    X|    Y|        Confidence|Amount of Pairs|\n",
      "+-----+-----+------------------+---------------+\n",
      "|isuzu|honda|0.6666666666666666|              4|\n",
      "+-----+-----+------------------+---------------+\n",
      "\n"
     ]
    }
   ],
   "source": [
    "AssociationRule_res_df.filter(\"Confidence > 0.6\").filter(\"Y == 'honda'\").orderBy(\"Confidence\",ascending=False).show(10)"
   ]
  },
  {
   "cell_type": "markdown",
   "metadata": {},
   "source": [
    "# +-------+--------+-------------------------+----------------------+\n",
    "# |     X   |         Y|        Confidence      |Amount of Pairs|\n",
    "# +-------+--------+-------------------------+----------------------+\n",
    "# | isuzu|honda|0.6666666666666666|            4              |\n",
    "\n",
    "##  Isuzu is a Japanese commercial vehicles and diesel engine manufacturing company headquartered in Tokyo.\n",
    "#### https://en.wikipedia.org/wiki/Isuzu_Motors\n",
    "\n",
    "## Honda is a Japanese public multinational conglomerate corporation primarily known as a manufacturer of automobiles, aircraft, motorcycles, and power equipment.\n",
    "#### https://en.wikipedia.org/wiki/Honda"
   ]
  },
  {
   "cell_type": "code",
   "execution_count": 25,
   "metadata": {},
   "outputs": [
    {
     "name": "stdout",
     "output_type": "stream",
     "text": [
      "+----------+------------+------------------+---------------+\n",
      "|         X|           Y|        Confidence|Amount of Pairs|\n",
      "+----------+------------+------------------+---------------+\n",
      "|pete wentz|fall out boy|0.6666666666666666|              4|\n",
      "+----------+------------+------------------+---------------+\n",
      "\n"
     ]
    }
   ],
   "source": [
    "AssociationRule_res_df.filter(\"Confidence > 0.6\").filter(\"Y == 'fall out boy'\").orderBy(\"Confidence\",ascending=False).show(10)"
   ]
  },
  {
   "cell_type": "markdown",
   "metadata": {},
   "source": [
    "# +------------------------+---------+----------------------------+-------------------------+\n",
    "# |     X                         |          Y|         Confidence         |Amount of Pairs     |\n",
    "# +------------------------+---------+-----------------------------+-------------------------+\n",
    "# |          pete wentz|        fall out boy|0.6666666666666666|              4|\n",
    "\n",
    "## Peter Lewis Kingston Wentz III, is an American musician. He is best known for being the bassist, lyricist, and backing vocalist for the American rock band Fall Out Boy.\n",
    "\n",
    "https://en.wikipedia.org/wiki/Pete_Wentz\n",
    "\n"
   ]
  },
  {
   "cell_type": "code",
   "execution_count": 26,
   "metadata": {},
   "outputs": [
    {
     "name": "stdout",
     "output_type": "stream",
     "text": [
      "+---------------+-------+------------------+---------------+\n",
      "|              X|      Y|        Confidence|Amount of Pairs|\n",
      "+---------------+-------+------------------+---------------+\n",
      "|sinus infection|walmart|0.8571428571428571|              6|\n",
      "+---------------+-------+------------------+---------------+\n",
      "\n"
     ]
    }
   ],
   "source": [
    "AssociationRule_res_df.filter(\"Confidence > 0.8\").filter(\"Y == 'walmart'\").orderBy(\"Confidence\",ascending=False).show(10)"
   ]
  },
  {
   "cell_type": "markdown",
   "metadata": {},
   "source": [
    "# +------------------------+---------+----------------------------+-------------------------+\n",
    "# |     X                         |          Y|         Confidence         |Amount of Pairs     |\n",
    "# +------------------------+---------+-----------------------------+-------------------------+\n",
    "# |     sinus infection|             walmart|0.8571428571428571|              6|\n",
    "\n",
    "# They sell everything at walmart: \n",
    "https://www.walmart.com/c/kp/sinus-medicines"
   ]
  },
  {
   "cell_type": "markdown",
   "metadata": {},
   "source": [
    "# Almost all of the rules with confidence 0.8 or higher are a spelling error\n",
    "# such as: \n",
    "# |             my spac -->  my space               | 0.8571428571428571\n",
    "# |      carttonnetwork --> cartoonnetwork| 0.8333333333333334\n",
    "# |              kholes --> kohls                         | 0.8333333333333334\n",
    "# |           dicionary --> dictionary               | 0.8333333333333334 "
   ]
  }
 ],
 "metadata": {
  "kernelspec": {
   "display_name": "Python 2",
   "language": "python",
   "name": "python2"
  },
  "language_info": {
   "codemirror_mode": {
    "name": "ipython",
    "version": 2
   },
   "file_extension": ".py",
   "mimetype": "text/x-python",
   "name": "python",
   "nbconvert_exporter": "python",
   "pygments_lexer": "ipython2",
   "version": "2.7.12"
  }
 },
 "nbformat": 4,
 "nbformat_minor": 2
}
